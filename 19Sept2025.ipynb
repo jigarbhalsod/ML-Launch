{
  "nbformat": 4,
  "nbformat_minor": 0,
  "metadata": {
    "colab": {
      "provenance": [],
      "authorship_tag": "ABX9TyMNtrq8kLVZHWJwkIKMMhwu",
      "include_colab_link": true
    },
    "kernelspec": {
      "name": "python3",
      "display_name": "Python 3"
    },
    "language_info": {
      "name": "python"
    }
  },
  "cells": [
    {
      "cell_type": "markdown",
      "metadata": {
        "id": "view-in-github",
        "colab_type": "text"
      },
      "source": [
        "<a href=\"https://colab.research.google.com/github/jigarbhalsod/ML-Launch/blob/main/19Sept2025.ipynb\" target=\"_parent\"><img src=\"https://colab.research.google.com/assets/colab-badge.svg\" alt=\"Open In Colab\"/></a>"
      ]
    },
    {
      "cell_type": "code",
      "execution_count": null,
      "metadata": {
        "colab": {
          "base_uri": "https://localhost:8080/"
        },
        "id": "93R--RK2fHfP",
        "outputId": "56ea93e4-3d83-4062-f3e4-4648c4df34e1"
      },
      "outputs": [
        {
          "output_type": "stream",
          "name": "stdout",
          "text": [
            "Starts here\n"
          ]
        }
      ],
      "source": [
        "import numpy as np\n",
        "print(\"Starts here\")"
      ]
    },
    {
      "cell_type": "code",
      "source": [
        "def y_func(x):\n",
        "  return 3*x + np.random.normal(0,0.5)\n",
        "n = 5\n",
        "x = np.linspace(1,10,n)\n",
        "y = y_func(x)\n",
        "\n",
        "data = np.column_stack((x,y))\n",
        "data"
      ],
      "metadata": {
        "colab": {
          "base_uri": "https://localhost:8080/"
        },
        "id": "861EtS85ffiq",
        "outputId": "0b67e2c3-f99d-4e47-b049-f30f3728c5f6"
      },
      "execution_count": null,
      "outputs": [
        {
          "output_type": "execute_result",
          "data": {
            "text/plain": [
              "array([[ 1.        ,  3.07271329],\n",
              "       [ 3.25      ,  9.82271329],\n",
              "       [ 5.5       , 16.57271329],\n",
              "       [ 7.75      , 23.32271329],\n",
              "       [10.        , 30.07271329]])"
            ]
          },
          "metadata": {},
          "execution_count": 10
        }
      ]
    },
    {
      "cell_type": "code",
      "source": [
        "a, c = np.polyfit(x, y, 1)\n",
        "\n",
        "print(\"Slope (a):\", a)\n",
        "print(\"Intercept (c):\", c)\n",
        "\n",
        "# Intercepts\n",
        "y_intercept = c\n",
        "x_intercept = -c / a if a != 0 else None\n",
        "print(\"y-intercept:\", y_intercept)\n",
        "print(\"x-intercept:\", x_intercept)"
      ],
      "metadata": {
        "colab": {
          "base_uri": "https://localhost:8080/"
        },
        "id": "LcA7xO7qhLJo",
        "outputId": "6d41ae98-df66-4fcf-9a4e-4d536bb9de06"
      },
      "execution_count": null,
      "outputs": [
        {
          "output_type": "stream",
          "name": "stdout",
          "text": [
            "Slope (a): 3.0000000000000004\n",
            "Intercept (c): 0.07271329264530609\n",
            "y-intercept: 0.07271329264530609\n",
            "x-intercept: -0.024237764215102025\n"
          ]
        }
      ]
    },
    {
      "cell_type": "code",
      "source": [],
      "metadata": {
        "id": "UqhTWP4Froer"
      },
      "execution_count": null,
      "outputs": []
    }
  ]
}