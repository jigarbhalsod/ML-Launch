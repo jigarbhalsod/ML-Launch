{
  "nbformat": 4,
  "nbformat_minor": 0,
  "metadata": {
    "colab": {
      "provenance": [],
      "authorship_tag": "ABX9TyNKuRMoqxpVrMQ7Php8psQC",
      "include_colab_link": true
    },
    "kernelspec": {
      "name": "python3",
      "display_name": "Python 3"
    },
    "language_info": {
      "name": "python"
    }
  },
  "cells": [
    {
      "cell_type": "markdown",
      "metadata": {
        "id": "view-in-github",
        "colab_type": "text"
      },
      "source": [
        "<a href=\"https://colab.research.google.com/github/jigarbhalsod/ML-Launch/blob/main/18Sept25.ipynb\" target=\"_parent\"><img src=\"https://colab.research.google.com/assets/colab-badge.svg\" alt=\"Open In Colab\"/></a>"
      ]
    },
    {
      "cell_type": "markdown",
      "source": [
        "1D MATRIX"
      ],
      "metadata": {
        "id": "d8phTAhjUyrJ"
      }
    },
    {
      "cell_type": "code",
      "source": [
        "import numpy as np\n",
        "a = np.random.randint(1,10,5)\n",
        "# a*=100\n",
        "a"
      ],
      "metadata": {
        "colab": {
          "base_uri": "https://localhost:8080/"
        },
        "id": "iwoOQSyOT3T3",
        "outputId": "ad95c503-2278-4755-80f2-6bda031e3f3f"
      },
      "execution_count": null,
      "outputs": [
        {
          "output_type": "execute_result",
          "data": {
            "text/plain": [
              "array([5, 1, 4, 7, 5])"
            ]
          },
          "metadata": {},
          "execution_count": 9
        }
      ]
    },
    {
      "cell_type": "markdown",
      "source": [
        "2D MATRIX"
      ],
      "metadata": {
        "id": "yB_M5cpDU1MW"
      }
    },
    {
      "cell_type": "code",
      "source": [
        "b = np.random.randint(1,11,(5,5))\n",
        "# b*=100\n",
        "b"
      ],
      "metadata": {
        "colab": {
          "base_uri": "https://localhost:8080/"
        },
        "id": "5lMacRJZUxGy",
        "outputId": "e12075d6-fe56-4b95-c9c5-03bbefab3b82"
      },
      "execution_count": null,
      "outputs": [
        {
          "output_type": "execute_result",
          "data": {
            "text/plain": [
              "array([[ 8,  4,  1, 10,  6],\n",
              "       [ 8,  3,  1,  9,  3],\n",
              "       [ 5,  6,  3,  4,  5],\n",
              "       [ 7,  2,  9,  6,  5],\n",
              "       [ 4,  5,  5,  5,  7]])"
            ]
          },
          "metadata": {},
          "execution_count": 10
        }
      ]
    },
    {
      "cell_type": "markdown",
      "source": [
        "Transpose, Magnitude, dot product, cross product"
      ],
      "metadata": {
        "id": "hOU6KnOWVvBO"
      }
    },
    {
      "cell_type": "code",
      "source": [
        "print(\"a Transpose\")\n",
        "print(a.T)\n",
        "print(\"\\nb Transpose\")\n",
        "print(b.T)\n",
        "\n",
        "print(\"\\na and b Cross product\")\n",
        "print(np.cross(a[:3], b[0,:3]))\n",
        "print(\"\\na and b dot product\")\n",
        "print(np.dot(a,b))\n",
        "a@b"
      ],
      "metadata": {
        "colab": {
          "base_uri": "https://localhost:8080/"
        },
        "id": "PtZ4f52PV0BH",
        "outputId": "e0edca0a-6217-498e-eac6-624589a8643a"
      },
      "execution_count": null,
      "outputs": [
        {
          "output_type": "stream",
          "name": "stdout",
          "text": [
            "a Transpose\n",
            "[5 1 4 7 5]\n",
            "\n",
            "b Transpose\n",
            "[[ 8  8  5  7  4]\n",
            " [ 4  3  6  2  5]\n",
            " [ 1  1  3  9  5]\n",
            " [10  9  4  6  5]\n",
            " [ 6  3  5  5  7]]\n",
            "\n",
            "a and b Cross product\n",
            "[-15  27  12]\n",
            "\n",
            "a and b dot product\n",
            "[137  86 106 142 123]\n"
          ]
        },
        {
          "output_type": "execute_result",
          "data": {
            "text/plain": [
              "array([137,  86, 106, 142, 123])"
            ]
          },
          "metadata": {},
          "execution_count": 11
        }
      ]
    },
    {
      "cell_type": "markdown",
      "source": [
        "DETERMINANT AND INVERSE"
      ],
      "metadata": {
        "id": "gpvH9_FVY675"
      }
    },
    {
      "cell_type": "code",
      "source": [
        "print(\"Determinant\")\n",
        "print(np.linalg.det(b))\n",
        "print(\"Inverse\")\n",
        "print(np.linalg.inv(b))\n",
        "\n",
        "print(\"Checking the laws\")\n",
        "# print((b @ np.linalg.inv(b), np.eye(5)))"
      ],
      "metadata": {
        "colab": {
          "base_uri": "https://localhost:8080/"
        },
        "id": "8Qmv8SeBXwEh",
        "outputId": "ff095a38-4135-43c2-8a7b-15c25bca9c8d"
      },
      "execution_count": null,
      "outputs": [
        {
          "output_type": "stream",
          "name": "stdout",
          "text": [
            "Determinant\n",
            "999.9999999999998\n",
            "Inverse\n",
            "[[ 0.62  -0.65   0.49   0.29  -0.81 ]\n",
            " [-0.536  0.52   0.028 -0.212  0.368]\n",
            " [-0.376  0.32  -0.152  0.008  0.288]\n",
            " [-0.564  0.73  -0.478 -0.238  0.682]\n",
            " [ 0.7   -0.75   0.15   0.15  -0.35 ]]\n",
            "Checking the laws\n"
          ]
        }
      ]
    },
    {
      "cell_type": "markdown",
      "source": [
        "CALCULUS"
      ],
      "metadata": {
        "id": "9N1kimKnb9m0"
      }
    },
    {
      "cell_type": "code",
      "source": [
        "def func1(x):\n",
        "  return x**3+2*x\n",
        "def derivative(func, x, h=1e-5):\n",
        "  return (func(x+h)-func(x))/h\n",
        "print(\"The derivative of f(x) with x=1 value\")\n",
        "print(derivative(func1, 1))"
      ],
      "metadata": {
        "colab": {
          "base_uri": "https://localhost:8080/"
        },
        "id": "gvCezRZOamEv",
        "outputId": "bb57ac63-616b-4935-fe05-d9e93483e813"
      },
      "execution_count": null,
      "outputs": [
        {
          "output_type": "stream",
          "name": "stdout",
          "text": [
            "The derivative of f(x) with x=1 value\n",
            "5.000030000124056\n"
          ]
        }
      ]
    },
    {
      "cell_type": "markdown",
      "source": [
        "GREDIENT"
      ],
      "metadata": {
        "id": "tYziBLMkgCSY"
      }
    },
    {
      "cell_type": "code",
      "source": [
        "def func2(x,y):\n",
        "  return x**2 + y**2\n",
        "def gredient(func,x,y,h=1e-5):\n",
        "  return (func(x+h,y)-func(x-h,y))/h,(func(x,y+h)-func(x,y-h))/h\n",
        "print(\"The derivative of func2(x) with x=1 and y=1 value\")\n",
        "print(gredient(func2,1,1))"
      ],
      "metadata": {
        "colab": {
          "base_uri": "https://localhost:8080/"
        },
        "id": "UJ4EGswcd3rJ",
        "outputId": "9c441add-5a03-4e3b-be8d-583459a7ff5d"
      },
      "execution_count": null,
      "outputs": [
        {
          "output_type": "stream",
          "name": "stdout",
          "text": [
            "The derivative of func2(x) with x=1 and y=1 value\n",
            "(4.000000000004, 4.000000000004)\n"
          ]
        }
      ]
    },
    {
      "cell_type": "markdown",
      "source": [
        "PCA-like Decomposition"
      ],
      "metadata": {
        "id": "90PzYhZuo6na"
      }
    },
    {
      "cell_type": "code",
      "source": [
        "x = np.linspace(0,10,10)\n",
        "y = 2*x + 7 + np.random.normal(0,0.5,10)  # small noise\n",
        "data = np.column_stack((x, y))\n",
        "data"
      ],
      "metadata": {
        "id": "Do-exDZrgBVd",
        "colab": {
          "base_uri": "https://localhost:8080/"
        },
        "outputId": "a4b2f4c4-b00a-4bde-bd33-29ae38e03531"
      },
      "execution_count": null,
      "outputs": [
        {
          "output_type": "execute_result",
          "data": {
            "text/plain": [
              "array([[ 0.        ,  6.94770023],\n",
              "       [ 1.11111111,  9.25321101],\n",
              "       [ 2.22222222, 12.17272174],\n",
              "       [ 3.33333333, 13.58174986],\n",
              "       [ 4.44444444, 15.50670673],\n",
              "       [ 5.55555556, 17.66370126],\n",
              "       [ 6.66666667, 21.1137486 ],\n",
              "       [ 7.77777778, 22.37551744],\n",
              "       [ 8.88888889, 24.39404684],\n",
              "       [10.        , 26.93539565]])"
            ]
          },
          "metadata": {},
          "execution_count": 18
        }
      ]
    },
    {
      "cell_type": "markdown",
      "source": [
        "Eigan Values Eigan Vectors"
      ],
      "metadata": {
        "id": "wtizn54Nq_p6"
      }
    },
    {
      "cell_type": "code",
      "source": [
        "cov = np.cov(data.T)\n",
        "vals, vecs = np.linalg.eig(cov)\n",
        "print(\"Coverience :\")\n",
        "print(cov)\n",
        "print(\"Eigen values :\")\n",
        "print(vals)\n",
        "print(\"Eigen vectors :\")\n",
        "print(vecs)"
      ],
      "metadata": {
        "colab": {
          "base_uri": "https://localhost:8080/"
        },
        "id": "biN46b_4p-qW",
        "outputId": "e3803d63-2d02-49cd-8cfa-dbf7fb8eafc0"
      },
      "execution_count": null,
      "outputs": [
        {
          "output_type": "stream",
          "name": "stdout",
          "text": [
            "Coverience :\n",
            "[[11.31687243 23.21927189]\n",
            " [23.21927189 47.77656222]]\n",
            "Eigen values :\n",
            "[2.61849445e-02 5.90672497e+01]\n",
            "Eigen vectors :\n",
            "[[-0.89931391 -0.43730365]\n",
            " [ 0.43730365 -0.89931391]]\n"
          ]
        }
      ]
    }
  ]
}