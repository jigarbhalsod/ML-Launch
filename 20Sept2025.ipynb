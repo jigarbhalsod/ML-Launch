{
  "nbformat": 4,
  "nbformat_minor": 0,
  "metadata": {
    "colab": {
      "provenance": [],
      "authorship_tag": "ABX9TyPhmKia3Ob7dpdarmKfN6kO",
      "include_colab_link": true
    },
    "kernelspec": {
      "name": "python3",
      "display_name": "Python 3"
    },
    "language_info": {
      "name": "python"
    }
  },
  "cells": [
    {
      "cell_type": "markdown",
      "metadata": {
        "id": "view-in-github",
        "colab_type": "text"
      },
      "source": [
        "<a href=\"https://colab.research.google.com/github/jigarbhalsod/ML-Launch/blob/main/20Sept2025.ipynb\" target=\"_parent\"><img src=\"https://colab.research.google.com/assets/colab-badge.svg\" alt=\"Open In Colab\"/></a>"
      ]
    },
    {
      "cell_type": "markdown",
      "source": [
        "THIS IS BASICALLY A PRACTICE OF NUMPY AND PANDAS LIBRARY OF PYTHON FOR BASIC INTRODUCTION PURPOSE."
      ],
      "metadata": {
        "id": "pLSSSFCOf1i4"
      }
    },
    {
      "cell_type": "code",
      "source": [
        "import numpy as np\n",
        "\n",
        "# Create a 1D ndarray that contains only integers\n",
        "x = np.array([1, 2, 3, 4, 5])\n",
        "print('x = ', x) # x = [1 2 3 4 5]\n",
        "print('x has dimensions:', x.shape) # x has dimensions: (5,)\n",
        "print('The elements in x are of type:', x.dtype) # The elements in x are of type: int64\n",
        "\n",
        "# Create a rank 2 ndarray that only contains integers\n",
        "Y = np.array([[1,2,3],[4,5,6],[7,8,9], [10,11,12]])\n",
        "print('y = ', Y)\n",
        "print('Y has dimensions:', Y.shape) # Y has dimensions: (4, 3)\n",
        "print('Y has a total of', Y.size, 'elements') # Y has a total of 12 elements\n",
        "print('Y is an object of type:', type(Y)) # Y is an object of type: class 'numpy.ndarray'\n",
        "print('The elements in Y are of type:', Y.dtype) # The elements in Y are of type: int64"
      ],
      "metadata": {
        "colab": {
          "base_uri": "https://localhost:8080/"
        },
        "id": "3jwWiDvNkxKC",
        "outputId": "6f0d5a67-f73d-4b79-e1e1-fb90363a218e"
      },
      "execution_count": null,
      "outputs": [
        {
          "output_type": "stream",
          "name": "stdout",
          "text": [
            "x =  [1 2 3 4 5]\n",
            "x has dimensions: (5,)\n",
            "The elements in x are of type: int64\n",
            "y =  [[ 1  2  3]\n",
            " [ 4  5  6]\n",
            " [ 7  8  9]\n",
            " [10 11 12]]\n",
            "Y has dimensions: (4, 3)\n",
            "Y has a total of 12 elements\n",
            "Y is an object of type: <class 'numpy.ndarray'>\n",
            "The elements in Y are of type: int64\n"
          ]
        }
      ]
    },
    {
      "cell_type": "code",
      "source": [
        "X = np.eye(5)\n",
        "X"
      ],
      "metadata": {
        "colab": {
          "base_uri": "https://localhost:8080/"
        },
        "id": "18OGBiwfmlO7",
        "outputId": "a1913c3b-0f17-46d7-fa34-aab389f96482"
      },
      "execution_count": null,
      "outputs": [
        {
          "output_type": "execute_result",
          "data": {
            "text/plain": [
              "array([[1., 0., 0., 0., 0.],\n",
              "       [0., 1., 0., 0., 0.],\n",
              "       [0., 0., 1., 0., 0.],\n",
              "       [0., 0., 0., 1., 0.],\n",
              "       [0., 0., 0., 0., 1.]])"
            ]
          },
          "metadata": {},
          "execution_count": 21
        }
      ]
    },
    {
      "cell_type": "code",
      "source": [
        "X = np.diag([10,20,30,50])\n",
        "X"
      ],
      "metadata": {
        "colab": {
          "base_uri": "https://localhost:8080/"
        },
        "id": "TJupvEsQoW38",
        "outputId": "1a4506d7-8069-4d90-e639-a8eab5daa344"
      },
      "execution_count": null,
      "outputs": [
        {
          "output_type": "execute_result",
          "data": {
            "text/plain": [
              "array([[10,  0,  0,  0],\n",
              "       [ 0, 20,  0,  0],\n",
              "       [ 0,  0, 30,  0],\n",
              "       [ 0,  0,  0, 50]])"
            ]
          },
          "metadata": {},
          "execution_count": 23
        }
      ]
    },
    {
      "cell_type": "code",
      "source": [
        "x = np.arange(10)\n",
        "print(x)\n",
        "x = np.arange(4,10)\n",
        "print(x)\n",
        "x = np.arange(1,14,3)\n",
        "print(x)"
      ],
      "metadata": {
        "colab": {
          "base_uri": "https://localhost:8080/"
        },
        "id": "1XoLe2KGoZ8j",
        "outputId": "a45ddcea-5f4d-4191-f0f1-ce3d1087c609"
      },
      "execution_count": null,
      "outputs": [
        {
          "output_type": "stream",
          "name": "stdout",
          "text": [
            "[0 1 2 3 4 5 6 7 8 9]\n",
            "[4 5 6 7 8 9]\n",
            "[ 1  4  7 10 13]\n"
          ]
        }
      ]
    },
    {
      "cell_type": "code",
      "source": [
        "x = np.linspace(0,25,10,endpoint=False)\n",
        "x"
      ],
      "metadata": {
        "colab": {
          "base_uri": "https://localhost:8080/"
        },
        "id": "i06BNkCKoqUZ",
        "outputId": "b42882da-cc2d-48d0-8245-84ad4a57dfbc"
      },
      "execution_count": null,
      "outputs": [
        {
          "output_type": "execute_result",
          "data": {
            "text/plain": [
              "array([ 0. ,  2.5,  5. ,  7.5, 10. , 12.5, 15. , 17.5, 20. , 22.5])"
            ]
          },
          "metadata": {},
          "execution_count": 53
        }
      ]
    },
    {
      "cell_type": "markdown",
      "source": [
        "\n",
        "\n",
        "*   linspace → define number of points.\n",
        "*   arange → define step size.\n",
        "*   linspace includes the endpoint by default; arange does not include the stop value."
      ],
      "metadata": {
        "id": "c1istb60qn3A"
      }
    },
    {
      "cell_type": "code",
      "source": [
        "x = np.arange(20)\n",
        "print('x = np.arange(20) :\\n',x)\n",
        "x = np.reshape(x, (4,5))\n",
        "print('x = np.reshape(x, (4,5)) :\\n',x)\n",
        "\n",
        "x = np.arange(20).reshape(4, 5) # does the same thing as above\n",
        "\n",
        "y = np.linspace(0,50,10,endpoint=False).reshape(5,2)\n",
        "print('y = np.linspace(0,50,10,endpoint=False).reshape(5,2) :\\n',y)"
      ],
      "metadata": {
        "colab": {
          "base_uri": "https://localhost:8080/"
        },
        "id": "ffaQMiN9qGGN",
        "outputId": "aa6ced8d-122c-4ab0-c06d-82eceb6f5655"
      },
      "execution_count": null,
      "outputs": [
        {
          "output_type": "stream",
          "name": "stdout",
          "text": [
            "x = np.arange(20) :\n",
            " [ 0  1  2  3  4  5  6  7  8  9 10 11 12 13 14 15 16 17 18 19]\n",
            "x = np.reshape(x, (4,5)) :\n",
            " [[ 0  1  2  3  4]\n",
            " [ 5  6  7  8  9]\n",
            " [10 11 12 13 14]\n",
            " [15 16 17 18 19]]\n",
            "y = np.linspace(0,50,10,endpoint=False).reshape(5,2) :\n",
            " [[ 0.  5.]\n",
            " [10. 15.]\n",
            " [20. 25.]\n",
            " [30. 35.]\n",
            " [40. 45.]]\n"
          ]
        }
      ]
    },
    {
      "cell_type": "markdown",
      "source": [
        "y = np.linspace(0, 50, 10, endpoint=False)<br>\n",
        "Generates 10 evenly spaced numbers from 0 up to but not including 50 (endpoint=False).\n",
        "\n",
        ".reshape(5, 2)<br>\n",
        "Reshapes the 1D array of 10 numbers into a 2D array with 5 rows and 2 columns."
      ],
      "metadata": {
        "id": "oNbx8xUmsh4u"
      }
    },
    {
      "cell_type": "code",
      "source": [
        "X = np.arange(20).reshape(4, 5)\n",
        "print('X = np.arange(20).reshape(4, 5):\\n',X)\n",
        "Z = X[1:4,2:5]\n",
        "print('\\nZ = X[1:4,2:5]:\\n',Z)\n",
        "Z = X[1:,2:]\n",
        "print('\\nZ = X[1:,2:]:\\n',Z)"
      ],
      "metadata": {
        "colab": {
          "base_uri": "https://localhost:8080/"
        },
        "id": "IWJMtfsHrT2k",
        "outputId": "a4e70126-4637-4f0e-eb4e-21ab4621e3dd"
      },
      "execution_count": null,
      "outputs": [
        {
          "output_type": "stream",
          "name": "stdout",
          "text": [
            "X = np.arange(20).reshape(4, 5):\n",
            " [[ 0  1  2  3  4]\n",
            " [ 5  6  7  8  9]\n",
            " [10 11 12 13 14]\n",
            " [15 16 17 18 19]]\n",
            "\n",
            "Z = X[1:4,2:5]:\n",
            " [[ 7  8  9]\n",
            " [12 13 14]\n",
            " [17 18 19]]\n",
            "\n",
            "Z = X[1:,2:]:\n",
            " [[ 7  8  9]\n",
            " [12 13 14]\n",
            " [17 18 19]]\n"
          ]
        }
      ]
    },
    {
      "cell_type": "markdown",
      "source": [
        "SLICING TOPIC"
      ],
      "metadata": {
        "id": "prOHsJqLxlWO"
      }
    },
    {
      "cell_type": "code",
      "source": [
        "X = np.random.random((3,3))\n",
        "X = np.round(X, 2)  # round to 2 decimal places\n",
        "print('X = np.random.random((3,3)):\\n',X)\n",
        "\n",
        "X = np.random.randint(4,15,size=(3,2))\n",
        "print('\\nX = np.random.randint(4,15,size=(3,2)):\\n',X)\n",
        "\n",
        "X = np.random.normal(1, 0.1, size=(100,100))\n",
        "print('\\nX = np.random.normal(0, 0.1, size=(100,100)):\\n',X)"
      ],
      "metadata": {
        "colab": {
          "base_uri": "https://localhost:8080/"
        },
        "id": "v-S32ynKv0gz",
        "outputId": "47de0365-3d31-453d-f3e3-f9ae191c0aa2"
      },
      "execution_count": null,
      "outputs": [
        {
          "output_type": "stream",
          "name": "stdout",
          "text": [
            "X = np.random.random((3,3)):\n",
            " [[0.64 0.54 0.71]\n",
            " [0.16 0.97 0.02]\n",
            " [0.77 0.76 0.76]]\n",
            "\n",
            "X = np.random.randint(4,15,size=(3,2)):\n",
            " [[ 5  5]\n",
            " [13 11]\n",
            " [ 6  7]]\n",
            "\n",
            "X = np.random.normal(0, 0.1, size=(100,100)):\n",
            " [[1.01736306 0.98247615 0.85018157 ... 0.9093092  1.05149284 1.15062296]\n",
            " [1.19003742 0.91093313 0.86391372 ... 1.2042611  1.11880026 1.00194004]\n",
            " [0.96388479 0.89913465 0.90421875 ... 0.82286104 0.99425696 1.09705965]\n",
            " ...\n",
            " [1.00105205 0.94714358 1.05307236 ... 0.99969933 1.13172477 0.83614332]\n",
            " [1.18348243 0.96584839 0.79133175 ... 1.0019794  1.18343867 0.7878407 ]\n",
            " [0.89829719 0.8266452  1.0638819  ... 0.97193009 1.00040869 0.88099514]]\n"
          ]
        }
      ]
    },
    {
      "cell_type": "code",
      "source": [
        "x = np.array([1, 2, 3, 4, 5])\n",
        "# delete the first and fifth element of x\n",
        "x = np.delete(x, [0,4,1])\n",
        "print('x = np.delete(x, [0,4,1]):\\n',x)\n",
        "\n",
        "Y = np.array([[1,2,3],[4,5,6],[7,8,9]])\n",
        "print('\\nY = np.array([[1,2,3],[4,5,6],[7,8,9]]):\\n',Y)\n",
        "w = np.delete(Y, 0, axis=0)\n",
        "print('\\nw = np.delete(Y, 0, axis=0):\\n',w)\n",
        "W = np.delete(Y, 0, axis=1)\n",
        "print('\\nW = np.delete(Y, 0, axis=1):\\n',W)\n",
        "v = np.delete(Y, [0,2], axis=1)\n",
        "print('\\nv = np.delete(Y, [0,2], axis=1):\\n',v)"
      ],
      "metadata": {
        "colab": {
          "base_uri": "https://localhost:8080/"
        },
        "id": "xcr9NY7Dz-EQ",
        "outputId": "55e65ab5-8939-4b7d-d9ce-2f5531446029"
      },
      "execution_count": null,
      "outputs": [
        {
          "output_type": "stream",
          "name": "stdout",
          "text": [
            "x = np.delete(x, [0,4,1]):\n",
            " [3 4]\n",
            "\n",
            "Y = np.array([[1,2,3],[4,5,6],[7,8,9]]):\n",
            " [[1 2 3]\n",
            " [4 5 6]\n",
            " [7 8 9]]\n",
            "\n",
            "w = np.delete(Y, 0, axis=0):\n",
            " [[4 5 6]\n",
            " [7 8 9]]\n",
            "\n",
            "W = np.delete(Y, 0, axis=1):\n",
            " [[2 3]\n",
            " [5 6]\n",
            " [8 9]]\n",
            "\n",
            "v = np.delete(Y, [0,2], axis=1):\n",
            " [[2]\n",
            " [5]\n",
            " [8]]\n"
          ]
        }
      ]
    },
    {
      "cell_type": "markdown",
      "source": [
        "x = np.array([1, 2, 3, 4, 5])<br>\n",
        "x = np.delete(x, [0,4,1])<br>\n",
        "np.delete(array, indices) → removes elements at the specified indices.<br>\n",
        "\n",
        "[0,4,1] → removes 1st (0), 5th (4), and then the original 2nd (1) element.<br>\n",
        "\n",
        "Y = np.array([[1,2,3],[4,5,6],[7,8,9]])<br>\n",
        "Creates a 3×3 2D array.\n",
        "\n",
        "w = np.delete(Y, 0, axis=0)<br>\n",
        "Deletes row 0 (first row) because axis=0 → row-wise deletion.\n",
        "\n",
        "W = np.delete(Y, 0, axis=1)<br>\n",
        "Deletes column 0 (first column) because axis=1 → column-wise deletion.\n",
        "\n",
        "v = np.delete(Y, [0,2], axis=1)<br>\n",
        "Deletes columns 0 and 2 → keeps only the middle column."
      ],
      "metadata": {
        "id": "kMoXvBsn1y6J"
      }
    },
    {
      "cell_type": "code",
      "source": [
        "x = np.array([1, 2, 3, 4, 5])\n",
        "Y = np.array([[1,2,3],[4,5,6],[7,8,9]])\n",
        "x = np.append(x, 6)\n",
        "print('x = np.append(x, 6):\\n',x)\n",
        "x = np.append(x, [7,8])\n",
        "print('\\nx = np.append(x, [7,8]):\\n',x)\n",
        "v = np.append(Y, [[10,11,12]], axis=0)\n",
        "print('\\nv = np.append(Y, [[10,11,12]], axis=0):\\n',v)\n",
        "q = np.append(Y,[[13],[14],[15]], axis=1)\n",
        "print('\\nq = np.append(Y,[[13],[14],[15]], axis=1):\\n',q)"
      ],
      "metadata": {
        "colab": {
          "base_uri": "https://localhost:8080/"
        },
        "id": "uyU4Bk6P2Lq1",
        "outputId": "ad95d835-4a7a-4b93-b8ab-ff5aff353919"
      },
      "execution_count": null,
      "outputs": [
        {
          "output_type": "stream",
          "name": "stdout",
          "text": [
            "x = np.append(x, 6):\n",
            " [1 2 3 4 5 6]\n",
            "\n",
            "x = np.append(x, [7,8]):\n",
            " [1 2 3 4 5 6 7 8]\n",
            "\n",
            "v = np.append(Y, [[10,11,12]], axis=0):\n",
            " [[ 1  2  3]\n",
            " [ 4  5  6]\n",
            " [ 7  8  9]\n",
            " [10 11 12]]\n",
            "\n",
            "q = np.append(Y,[[13],[14],[15]], axis=1):\n",
            " [[ 1  2  3 13]\n",
            " [ 4  5  6 14]\n",
            " [ 7  8  9 15]]\n"
          ]
        }
      ]
    },
    {
      "cell_type": "code",
      "source": [
        "# Insert\n",
        "# np.insert(ndarray, index, elements, axis)\n",
        "# inserts the given list of elements to ndarray right before\n",
        "# the given index along the specified axis\n",
        "x = np.array([1, 2, 5, 6, 7])\n",
        "Y = np.array([[1,2,3],[7,8,9]])\n",
        "# insert the integer 3 and 4 between 2 and 5 in x. here 2 is index at which it should be inserted\n",
        "x = np.insert(x,2,[3,4])\n",
        "print(x)\n",
        "# insert a row between the first and last row of Y\n",
        "w = np.insert(Y,1,[4,5,6],axis=0)\n",
        "print(w)\n",
        "# insert a column full of [5.6] between the first and second column of Y\n",
        "v = np.insert(Y,1,[5,6], axis=1)\n",
        "print(v)"
      ],
      "metadata": {
        "colab": {
          "base_uri": "https://localhost:8080/"
        },
        "id": "Khjy-ENU3irn",
        "outputId": "9bf5ca59-853d-4f06-cdb9-131cf1c40e99"
      },
      "execution_count": null,
      "outputs": [
        {
          "output_type": "stream",
          "name": "stdout",
          "text": [
            "[1 2 3 4 5 6 7]\n",
            "[[1 2 3]\n",
            " [4 5 6]\n",
            " [7 8 9]]\n",
            "[[1 5 2 3]\n",
            " [7 6 8 9]]\n"
          ]
        }
      ]
    },
    {
      "cell_type": "code",
      "source": [
        "# Stacking\n",
        "# NumPy also allows us to stack ndarrays on top of each other,\n",
        "# or to stack them side by side. The stacking is done using either\n",
        "# the np.vstack() function for vertical stacking, or the np.hstack()\n",
        "# function for horizontal stacking. It is important to note that in\n",
        "# order to stack ndarrays, the shape of the ndarrays must match.\n",
        "x = np.array([1,2])\n",
        "Y = np.array([[3,4],[5,6]])\n",
        "z = np.vstack((x,Y)) # [[1,2], [3,4], [5,6]]\n",
        "w = np.hstack((Y,x.reshape(2,1))) # [[3,4,1], [5,6,2]]"
      ],
      "metadata": {
        "id": "myp-FbbO3jng"
      },
      "execution_count": null,
      "outputs": []
    },
    {
      "cell_type": "code",
      "source": [
        "X = np.array([[1,2,3],[4,5,6],[7,8,9]])\n",
        "# Extract elements along the diagonal\n",
        "d0 = np.diag(X)\n",
        "print(d0)\n",
        "# As default is k=0, which refers to the main diagonal.\n",
        "# Values of k > 0 are used to select elements in diagonals above\n",
        "# the main diagonal, and values of k < 0 are used to select elements\n",
        "# in diagonals below the main diagonal.\n",
        "d1 = np.diag(X, k=1)\n",
        "print(d1)\n",
        "d2 = np.diag(X, k=-1)\n",
        "print(d2)"
      ],
      "metadata": {
        "colab": {
          "base_uri": "https://localhost:8080/"
        },
        "id": "sYeXgUGd4iBS",
        "outputId": "5c0ec7eb-94dd-45c0-fe5c-fba705aa1983"
      },
      "execution_count": null,
      "outputs": [
        {
          "output_type": "stream",
          "name": "stdout",
          "text": [
            "[1 5 9]\n",
            "[2 6]\n",
            "[4 8]\n"
          ]
        }
      ]
    },
    {
      "cell_type": "code",
      "source": [
        "u = np.unique(X)\n",
        "print(u)"
      ],
      "metadata": {
        "colab": {
          "base_uri": "https://localhost:8080/"
        },
        "id": "pr2Tjg8S5PzB",
        "outputId": "dd616d3d-7bae-422f-c9ef-de64990938ec"
      },
      "execution_count": null,
      "outputs": [
        {
          "output_type": "stream",
          "name": "stdout",
          "text": [
            "[1 2 3 4 5 6 7 8 9]\n"
          ]
        }
      ]
    },
    {
      "cell_type": "code",
      "source": [
        "x = np.array([1,2,3,4,5])\n",
        "y = np.array([6,7,2,8,4])\n",
        "print('The elements that are both in x and y:', np.intersect1d(x,y))\n",
        "print('The elements that are in x that are not in y:', np.setdiff1d(x,y))\n",
        "print('All the elements of x and y:',np.union1d(x,y))\n"
      ],
      "metadata": {
        "colab": {
          "base_uri": "https://localhost:8080/"
        },
        "id": "hsGDEt8S5U-H",
        "outputId": "1a21d902-2b25-44e4-d42e-7be0381b579b"
      },
      "execution_count": null,
      "outputs": [
        {
          "output_type": "stream",
          "name": "stdout",
          "text": [
            "The elements that are both in x and y: [2 4]\n",
            "The elements that are in x that are not in y: [1 3 5]\n",
            "All the elements of x and y: [1 2 3 4 5 6 7 8]\n"
          ]
        }
      ]
    },
    {
      "cell_type": "code",
      "source": [
        "# Sorting\n",
        "# When used as a function, it doesn't change the original ndarray\n",
        "s = np.sort(x)\n",
        "print('s:\\n',s)\n",
        "# When used as a method, the original array will be sorted\n",
        "x.sort()\n",
        "print('\\nx:\\n',x)\n",
        "\n",
        "x = np.array([1,2,3,4,5,4,3,2])\n",
        "X = np.array([[1,2,3],[4,5,6],[7,8,9]])\n",
        "# sort x but only keep the unique elements in x\n",
        "s = np.sort(np.unique(x))\n",
        "print('\\ns unique:\\n',s)\n",
        "# sort the columns of X\n",
        "s = np.sort(X, axis = 0)\n",
        "print('\\ns axis = 0:\\n',s)\n",
        "# sort the rows of X\n",
        "s = np.sort(X, axis = 1)\n",
        "print('\\ns axis = 1:\\n',s)\n",
        "\n",
        "s = -np.sort(-X, axis = 0)\n",
        "print('\\n-s axis = 0:\\n',s)\n",
        "# sort the rows of X\n",
        "s = -np.sort(-X, axis = 1)\n",
        "print('\\n-s axis = 1:\\n',s)"
      ],
      "metadata": {
        "colab": {
          "base_uri": "https://localhost:8080/"
        },
        "id": "ledUT0Hc6MRo",
        "outputId": "08f4147d-d917-4ca3-9a9a-edfd70e3086a"
      },
      "execution_count": null,
      "outputs": [
        {
          "output_type": "stream",
          "name": "stdout",
          "text": [
            "s:\n",
            " [1 2 2 3 3 4 4 5]\n",
            "\n",
            "x:\n",
            " [1 2 2 3 3 4 4 5]\n",
            "\n",
            "s unique:\n",
            " [1 2 3 4 5]\n",
            "\n",
            "s axis = 0:\n",
            " [[1 2 3]\n",
            " [4 5 6]\n",
            " [7 8 9]]\n",
            "\n",
            "s axis = 1:\n",
            " [[1 2 3]\n",
            " [4 5 6]\n",
            " [7 8 9]]\n",
            "\n",
            "-s axis = 0:\n",
            " [[7 8 9]\n",
            " [4 5 6]\n",
            " [1 2 3]]\n",
            "\n",
            "-s axis = 1:\n",
            " [[3 2 1]\n",
            " [6 5 4]\n",
            " [9 8 7]]\n"
          ]
        }
      ]
    },
    {
      "cell_type": "code",
      "source": [
        "# NumPy allows element-wise operations on ndarrays as well as\n",
        "# matrix operations. In order to do element-wise operations,\n",
        "# NumPy sometimes uses something called Broadcasting.\n",
        "# Broadcasting is the term used to describe how NumPy handles\n",
        "# element-wise arithmetic operations with ndarrays of different shapes.\n",
        "# For example, broadcasting is used implicitly when doing arithmetic\n",
        "# operations between scalars and ndarrays.\n",
        "x = np.array([1,2,3,4])\n",
        "y = np.array([5.5,6.5,7.5,8.5])\n",
        "print(np.add(x,y))\n",
        "np.subtract(x,y)\n",
        "np.multiply(x,y)\n",
        "np.divide(x,y)\n",
        "\n",
        "# in order to do these operations the shapes of the ndarrays\n",
        "# being operated on, must have the same shape or be broadcastable\n",
        "X = np.array([1,2,3,4]).reshape(2,2)\n",
        "Y = np.array([5.5,6.5,7.5,8.5]).reshape(2,2)\n",
        "np.add(X,Y)\n",
        "np.subtract(X,Y)\n",
        "np.multiply(X,Y)\n",
        "np.divide(X,Y)\n",
        "\n",
        "# apply mathematical functions to all elements of an ndarray at once\n",
        "np.exp(x)\n",
        "np.sqrt(x)\n",
        "np.power(x,2)"
      ],
      "metadata": {
        "colab": {
          "base_uri": "https://localhost:8080/"
        },
        "id": "7DZTdp8f6Pzx",
        "outputId": "ed2a4015-6f35-4419-b472-ac910633e329"
      },
      "execution_count": null,
      "outputs": [
        {
          "output_type": "stream",
          "name": "stdout",
          "text": [
            "[ 6.5  8.5 10.5 12.5]\n"
          ]
        },
        {
          "output_type": "execute_result",
          "data": {
            "text/plain": [
              "array([ 1,  4,  9, 16])"
            ]
          },
          "metadata": {},
          "execution_count": 66
        }
      ]
    },
    {
      "cell_type": "code",
      "source": [
        "print('Average of all elements in X:', X.mean())\n",
        "print('Average of all elements in the columns of X:', X.mean(axis=0))\n",
        "print('Average of all elements in the rows of X:', X.mean(axis=1))\n",
        "print()\n",
        "print('Sum of all elements in X:', X.sum())\n",
        "print('Standard Deviation of all elements in X:', X.std())\n",
        "print('Median of all elements in X:', np.median(X))\n",
        "print('Maximum value of all elements in X:', X.max())\n",
        "print('Minimum value of all elements in X:', X.min())"
      ],
      "metadata": {
        "colab": {
          "base_uri": "https://localhost:8080/"
        },
        "id": "ZJjmafhB7-hj",
        "outputId": "f05e165e-fc48-44ce-dcbd-d02e1aa8e06e"
      },
      "execution_count": null,
      "outputs": [
        {
          "output_type": "stream",
          "name": "stdout",
          "text": [
            "Average of all elements in X: 2.5\n",
            "Average of all elements in the columns of X: [2. 3.]\n",
            "Average of all elements in the rows of X: [1.5 3.5]\n",
            "\n",
            "Sum of all elements in X: 10\n",
            "Standard Deviation of all elements in X: 1.118033988749895\n",
            "Median of all elements in X: 2.5\n",
            "Maximum value of all elements in X: 4\n",
            "Minimum value of all elements in X: 1\n"
          ]
        }
      ]
    },
    {
      "cell_type": "code",
      "source": [
        "# Broadcasting\n",
        "# NumPy is working behind the scenes to broadcast 3 along the ndarray\n",
        "# so that they have the same shape. This allows us to add 3 to each\n",
        "# element of X with just one line of code.\n",
        "print(4*X)\n",
        "print(4+X)\n",
        "print(4-X)\n",
        "print(4/X)\n",
        "# NumPy is able to add 1 x 3 and 3 x 1 ndarrays to 3 x 3 ndarrays\n",
        "# by broadcasting the smaller ndarrays along the big ndarray so that\n",
        "# they have compatible shapes. In general, NumPy can do this provided\n",
        "# that the smaller ndarray can be expanded to the shape of the larger\n",
        "# ndarray in such a way that the resulting broadcast is unambiguous.\n",
        "x = np.array([1,2,3])\n",
        "Y = np.array([[1,2,3],[4,5,6],[7,8,9]])\n",
        "Z = np.array([1,2,3]).reshape(3,1)\n",
        "print(x + Y)\n",
        "print(Z + Y)"
      ],
      "metadata": {
        "colab": {
          "base_uri": "https://localhost:8080/"
        },
        "id": "zEgbxA1G7_Xy",
        "outputId": "fc7b8a9c-d312-4e1a-f3b1-b7f080053a6d"
      },
      "execution_count": null,
      "outputs": [
        {
          "output_type": "stream",
          "name": "stdout",
          "text": [
            "[[ 4  8]\n",
            " [12 16]]\n",
            "[[5 6]\n",
            " [7 8]]\n",
            "[[3 2]\n",
            " [1 0]]\n",
            "[[4.         2.        ]\n",
            " [1.33333333 1.        ]]\n",
            "[[ 2  4  6]\n",
            " [ 5  7  9]\n",
            " [ 8 10 12]]\n",
            "[[ 2  3  4]\n",
            " [ 6  7  8]\n",
            " [10 11 12]]\n"
          ]
        }
      ]
    },
    {
      "cell_type": "markdown",
      "source": [
        "# **PANDAS**"
      ],
      "metadata": {
        "id": "mhIhcwVN8ikc"
      }
    }
  ]
}