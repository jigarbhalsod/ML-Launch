{
  "nbformat": 4,
  "nbformat_minor": 0,
  "metadata": {
    "colab": {
      "provenance": [],
      "authorship_tag": "ABX9TyOYolURphVRuPLnsoPhvS1e",
      "include_colab_link": true
    },
    "kernelspec": {
      "name": "python3",
      "display_name": "Python 3"
    },
    "language_info": {
      "name": "python"
    }
  },
  "cells": [
    {
      "cell_type": "markdown",
      "metadata": {
        "id": "view-in-github",
        "colab_type": "text"
      },
      "source": [
        "<a href=\"https://colab.research.google.com/github/jigarbhalsod/ML-Launch/blob/main/29Sept2025.ipynb\" target=\"_parent\"><img src=\"https://colab.research.google.com/assets/colab-badge.svg\" alt=\"Open In Colab\"/></a>"
      ]
    },
    {
      "cell_type": "code",
      "execution_count": 1,
      "metadata": {
        "id": "3Tmq256XhI78"
      },
      "outputs": [],
      "source": [
        "import numpy as np"
      ]
    },
    {
      "cell_type": "code",
      "source": [
        "# 1. Toy data (X = study hours, y = exam score)\n",
        "X = np.array([1, 2, 3, 4, 5], dtype=float)\n",
        "y = np.array([1.8, 3.1, 4.2, 4.9, 6.1], dtype=float)"
      ],
      "metadata": {
        "id": "0jLNNal-hOf4"
      },
      "execution_count": 2,
      "outputs": []
    },
    {
      "cell_type": "code",
      "source": [
        "# 2. Initialize slope (w) and intercept (b)\n",
        "w, b = 0.0, 0.0"
      ],
      "metadata": {
        "id": "Q1NG4UrBhTig"
      },
      "execution_count": 3,
      "outputs": []
    },
    {
      "cell_type": "code",
      "source": [
        "# 3. Settings\n",
        "learning_rate = 0.01\n",
        "epochs = 1000  # number of training steps\n",
        "n = len(X)"
      ],
      "metadata": {
        "id": "wWvRTkYahXyC"
      },
      "execution_count": 4,
      "outputs": []
    },
    {
      "cell_type": "code",
      "source": [
        "for _ in range(epochs):\n",
        "    # Predictions\n",
        "    y_pred = w * X + b\n",
        "\n",
        "    # Gradients (partial derivatives of MSE)\n",
        "    dw = (2/n) * np.sum((y_pred - y) * X)\n",
        "    db = (2/n) * np.sum(y_pred - y)\n",
        "\n",
        "    # Update parameters\n",
        "    w -= learning_rate * dw\n",
        "    b -= learning_rate * db\n",
        "\n",
        "print(f\"Learned slope w: {w:.3f}, intercept b: {b:.3f}\")"
      ],
      "metadata": {
        "colab": {
          "base_uri": "https://localhost:8080/"
        },
        "id": "EzQZbUlPhbxJ",
        "outputId": "62795f2c-577e-4fad-91ab-62d6c723b9ee"
      },
      "execution_count": 5,
      "outputs": [
        {
          "output_type": "stream",
          "name": "stdout",
          "text": [
            "Learned slope w: 1.045, intercept b: 0.881\n"
          ]
        }
      ]
    },
    {
      "cell_type": "code",
      "source": [
        "from sklearn.linear_model import LinearRegression\n",
        "\n",
        "model = LinearRegression().fit(X.reshape(-1,1), y)\n",
        "print(\"sklearn slope:\", model.coef_[0], \"intercept:\", model.intercept_)\n"
      ],
      "metadata": {
        "colab": {
          "base_uri": "https://localhost:8080/"
        },
        "id": "E90KJscfhf8g",
        "outputId": "89efbd9c-6472-4ffb-aafc-33851534df67"
      },
      "execution_count": 6,
      "outputs": [
        {
          "output_type": "stream",
          "name": "stdout",
          "text": [
            "sklearn slope: 1.04 intercept: 0.9000000000000004\n"
          ]
        }
      ]
    },
    {
      "cell_type": "code",
      "source": [],
      "metadata": {
        "id": "7qT4k6W5hqj2"
      },
      "execution_count": null,
      "outputs": []
    }
  ]
}