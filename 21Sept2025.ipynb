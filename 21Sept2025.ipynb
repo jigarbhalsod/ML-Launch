{
  "nbformat": 4,
  "nbformat_minor": 0,
  "metadata": {
    "colab": {
      "provenance": [],
      "authorship_tag": "ABX9TyPMw/3roe/ykfw/mJ83ct5H",
      "include_colab_link": true
    },
    "kernelspec": {
      "name": "python3",
      "display_name": "Python 3"
    },
    "language_info": {
      "name": "python"
    }
  },
  "cells": [
    {
      "cell_type": "markdown",
      "metadata": {
        "id": "view-in-github",
        "colab_type": "text"
      },
      "source": [
        "<a href=\"https://colab.research.google.com/github/jigarbhalsod/ML-Launch/blob/main/21Sept2025.ipynb\" target=\"_parent\"><img src=\"https://colab.research.google.com/assets/colab-badge.svg\" alt=\"Open In Colab\"/></a>"
      ]
    },
    {
      "cell_type": "code",
      "execution_count": null,
      "metadata": {
        "id": "dU3vuwbUPij8"
      },
      "outputs": [],
      "source": [
        "import numpy as np\n",
        "import pandas as pd"
      ]
    },
    {
      "cell_type": "markdown",
      "source": [
        "# SERIES"
      ],
      "metadata": {
        "id": "LThbB1niQWmO"
      }
    },
    {
      "cell_type": "code",
      "source": [
        "mydata = ['Boat', 'Car', 'Bike', 'Truck']\n",
        "\n",
        "myseries1 = pd.Series(mydata)\n",
        "print(myseries1)"
      ],
      "metadata": {
        "colab": {
          "base_uri": "https://localhost:8080/"
        },
        "id": "St1X1fTqP6FP",
        "outputId": "da7af72a-1774-40dd-ba14-62d86f75ba2e"
      },
      "execution_count": null,
      "outputs": [
        {
          "output_type": "stream",
          "name": "stdout",
          "text": [
            "0     Boat\n",
            "1      Car\n",
            "2     Bike\n",
            "3    Truck\n",
            "dtype: object\n"
          ]
        }
      ]
    },
    {
      "cell_type": "code",
      "source": [
        "mydata = [1, 55, 99, 43]\n",
        "myseries2 = pd.Series(mydata)\n",
        "print(myseries2)"
      ],
      "metadata": {
        "colab": {
          "base_uri": "https://localhost:8080/"
        },
        "id": "mxgiP6gdQJQk",
        "outputId": "ff70f9f2-6946-4c14-ca61-b8d5c6a77287"
      },
      "execution_count": null,
      "outputs": [
        {
          "output_type": "stream",
          "name": "stdout",
          "text": [
            "0     1\n",
            "1    55\n",
            "2    99\n",
            "3    43\n",
            "dtype: int64\n"
          ]
        }
      ]
    },
    {
      "cell_type": "markdown",
      "source": [
        "# DATAFRAME"
      ],
      "metadata": {
        "id": "q7-Y-zkWQaGl"
      }
    },
    {
      "cell_type": "code",
      "source": [
        "mydfdata = [('Boat', 1), ('Car', 55), ('Bike',99), ('Truck', 43)]\n",
        "\n",
        "mydf = pd.DataFrame(mydfdata, columns=['thing', 'count'])\n",
        "\n",
        "print(mydf,'\\n')\n",
        "print(mydf.dtypes)"
      ],
      "metadata": {
        "colab": {
          "base_uri": "https://localhost:8080/"
        },
        "id": "t6Ae0TYEQTng",
        "outputId": "59e4d7e5-8ac6-45fd-dcad-a08f7a142fe9"
      },
      "execution_count": null,
      "outputs": [
        {
          "output_type": "stream",
          "name": "stdout",
          "text": [
            "   thing  count\n",
            "0   Boat      1\n",
            "1    Car     55\n",
            "2   Bike     99\n",
            "3  Truck     43 \n",
            "\n",
            "thing    object\n",
            "count     int64\n",
            "dtype: object\n"
          ]
        }
      ]
    },
    {
      "cell_type": "markdown",
      "source": [
        "# READING THE DATA"
      ],
      "metadata": {
        "id": "cTxwfQ9hTnL2"
      }
    },
    {
      "cell_type": "code",
      "source": [
        "df = pd.read_csv('crocodile_dataset.csv')"
      ],
      "metadata": {
        "id": "Li3yN8hxQhSr"
      },
      "execution_count": null,
      "outputs": []
    },
    {
      "cell_type": "markdown",
      "source": [
        "# INSPECTION OF THE DATA"
      ],
      "metadata": {
        "id": "KoYPdXD7TqGt"
      }
    },
    {
      "cell_type": "code",
      "source": [
        "df.head()\n",
        "# df.tail()"
      ],
      "metadata": {
        "colab": {
          "base_uri": "https://localhost:8080/",
          "height": 553
        },
        "id": "0vnW4nH5SxKI",
        "outputId": "9926ab35-f1ca-4b95-e752-b2c9278688aa"
      },
      "execution_count": null,
      "outputs": [
        {
          "output_type": "execute_result",
          "data": {
            "text/plain": [
              "   Observation ID                         Common Name         Scientific Name  \\\n",
              "0               1                 Morelet's Crocodile    Crocodylus moreletii   \n",
              "1               2                  American Crocodile       Crocodylus acutus   \n",
              "2               3                   Orinoco Crocodile  Crocodylus intermedius   \n",
              "3               4                 Morelet's Crocodile    Crocodylus moreletii   \n",
              "4               5  Mugger Crocodile (Marsh Crocodile)    Crocodylus palustris   \n",
              "\n",
              "         Family       Genus  Observed Length (m)  Observed Weight (kg)  \\\n",
              "0  Crocodylidae  Crocodylus                 1.90                  62.0   \n",
              "1  Crocodylidae  Crocodylus                 4.09                 334.5   \n",
              "2  Crocodylidae  Crocodylus                 1.08                 118.2   \n",
              "3  Crocodylidae  Crocodylus                 2.42                  90.4   \n",
              "4  Crocodylidae  Crocodylus                 3.75                 269.4   \n",
              "\n",
              "  Age Class      Sex Date of Observation Country/Region      Habitat Type  \\\n",
              "0     Adult     Male          31-03-2018         Belize            Swamps   \n",
              "1     Adult     Male          28-01-2015      Venezuela         Mangroves   \n",
              "2  Juvenile  Unknown          07-12-2010      Venezuela  Flooded Savannas   \n",
              "3     Adult     Male          01-11-2019         Mexico            Rivers   \n",
              "4     Adult  Unknown          15-07-2019          India            Rivers   \n",
              "\n",
              "     Conservation Status     Observer Name  \\\n",
              "0          Least Concern      Allison Hill   \n",
              "1             Vulnerable      Brandon Hall   \n",
              "2  Critically Endangered  Melissa Peterson   \n",
              "3          Least Concern     Edward Fuller   \n",
              "4             Vulnerable       Donald Reid   \n",
              "\n",
              "                                               Notes  \n",
              "0           Cause bill scientist nation opportunity.  \n",
              "1  Ago current practice nation determine operatio...  \n",
              "2  Democratic shake bill here grow gas enough ana...  \n",
              "3        Officer relate animal direction eye bag do.  \n",
              "4  Class great prove reduce raise author play mov...  "
            ],
            "text/html": [
              "\n",
              "  <div id=\"df-91786fbb-825b-4701-8af3-9f5d8712e075\" class=\"colab-df-container\">\n",
              "    <div>\n",
              "<style scoped>\n",
              "    .dataframe tbody tr th:only-of-type {\n",
              "        vertical-align: middle;\n",
              "    }\n",
              "\n",
              "    .dataframe tbody tr th {\n",
              "        vertical-align: top;\n",
              "    }\n",
              "\n",
              "    .dataframe thead th {\n",
              "        text-align: right;\n",
              "    }\n",
              "</style>\n",
              "<table border=\"1\" class=\"dataframe\">\n",
              "  <thead>\n",
              "    <tr style=\"text-align: right;\">\n",
              "      <th></th>\n",
              "      <th>Observation ID</th>\n",
              "      <th>Common Name</th>\n",
              "      <th>Scientific Name</th>\n",
              "      <th>Family</th>\n",
              "      <th>Genus</th>\n",
              "      <th>Observed Length (m)</th>\n",
              "      <th>Observed Weight (kg)</th>\n",
              "      <th>Age Class</th>\n",
              "      <th>Sex</th>\n",
              "      <th>Date of Observation</th>\n",
              "      <th>Country/Region</th>\n",
              "      <th>Habitat Type</th>\n",
              "      <th>Conservation Status</th>\n",
              "      <th>Observer Name</th>\n",
              "      <th>Notes</th>\n",
              "    </tr>\n",
              "  </thead>\n",
              "  <tbody>\n",
              "    <tr>\n",
              "      <th>0</th>\n",
              "      <td>1</td>\n",
              "      <td>Morelet's Crocodile</td>\n",
              "      <td>Crocodylus moreletii</td>\n",
              "      <td>Crocodylidae</td>\n",
              "      <td>Crocodylus</td>\n",
              "      <td>1.90</td>\n",
              "      <td>62.0</td>\n",
              "      <td>Adult</td>\n",
              "      <td>Male</td>\n",
              "      <td>31-03-2018</td>\n",
              "      <td>Belize</td>\n",
              "      <td>Swamps</td>\n",
              "      <td>Least Concern</td>\n",
              "      <td>Allison Hill</td>\n",
              "      <td>Cause bill scientist nation opportunity.</td>\n",
              "    </tr>\n",
              "    <tr>\n",
              "      <th>1</th>\n",
              "      <td>2</td>\n",
              "      <td>American Crocodile</td>\n",
              "      <td>Crocodylus acutus</td>\n",
              "      <td>Crocodylidae</td>\n",
              "      <td>Crocodylus</td>\n",
              "      <td>4.09</td>\n",
              "      <td>334.5</td>\n",
              "      <td>Adult</td>\n",
              "      <td>Male</td>\n",
              "      <td>28-01-2015</td>\n",
              "      <td>Venezuela</td>\n",
              "      <td>Mangroves</td>\n",
              "      <td>Vulnerable</td>\n",
              "      <td>Brandon Hall</td>\n",
              "      <td>Ago current practice nation determine operatio...</td>\n",
              "    </tr>\n",
              "    <tr>\n",
              "      <th>2</th>\n",
              "      <td>3</td>\n",
              "      <td>Orinoco Crocodile</td>\n",
              "      <td>Crocodylus intermedius</td>\n",
              "      <td>Crocodylidae</td>\n",
              "      <td>Crocodylus</td>\n",
              "      <td>1.08</td>\n",
              "      <td>118.2</td>\n",
              "      <td>Juvenile</td>\n",
              "      <td>Unknown</td>\n",
              "      <td>07-12-2010</td>\n",
              "      <td>Venezuela</td>\n",
              "      <td>Flooded Savannas</td>\n",
              "      <td>Critically Endangered</td>\n",
              "      <td>Melissa Peterson</td>\n",
              "      <td>Democratic shake bill here grow gas enough ana...</td>\n",
              "    </tr>\n",
              "    <tr>\n",
              "      <th>3</th>\n",
              "      <td>4</td>\n",
              "      <td>Morelet's Crocodile</td>\n",
              "      <td>Crocodylus moreletii</td>\n",
              "      <td>Crocodylidae</td>\n",
              "      <td>Crocodylus</td>\n",
              "      <td>2.42</td>\n",
              "      <td>90.4</td>\n",
              "      <td>Adult</td>\n",
              "      <td>Male</td>\n",
              "      <td>01-11-2019</td>\n",
              "      <td>Mexico</td>\n",
              "      <td>Rivers</td>\n",
              "      <td>Least Concern</td>\n",
              "      <td>Edward Fuller</td>\n",
              "      <td>Officer relate animal direction eye bag do.</td>\n",
              "    </tr>\n",
              "    <tr>\n",
              "      <th>4</th>\n",
              "      <td>5</td>\n",
              "      <td>Mugger Crocodile (Marsh Crocodile)</td>\n",
              "      <td>Crocodylus palustris</td>\n",
              "      <td>Crocodylidae</td>\n",
              "      <td>Crocodylus</td>\n",
              "      <td>3.75</td>\n",
              "      <td>269.4</td>\n",
              "      <td>Adult</td>\n",
              "      <td>Unknown</td>\n",
              "      <td>15-07-2019</td>\n",
              "      <td>India</td>\n",
              "      <td>Rivers</td>\n",
              "      <td>Vulnerable</td>\n",
              "      <td>Donald Reid</td>\n",
              "      <td>Class great prove reduce raise author play mov...</td>\n",
              "    </tr>\n",
              "  </tbody>\n",
              "</table>\n",
              "</div>\n",
              "    <div class=\"colab-df-buttons\">\n",
              "\n",
              "  <div class=\"colab-df-container\">\n",
              "    <button class=\"colab-df-convert\" onclick=\"convertToInteractive('df-91786fbb-825b-4701-8af3-9f5d8712e075')\"\n",
              "            title=\"Convert this dataframe to an interactive table.\"\n",
              "            style=\"display:none;\">\n",
              "\n",
              "  <svg xmlns=\"http://www.w3.org/2000/svg\" height=\"24px\" viewBox=\"0 -960 960 960\">\n",
              "    <path d=\"M120-120v-720h720v720H120Zm60-500h600v-160H180v160Zm220 220h160v-160H400v160Zm0 220h160v-160H400v160ZM180-400h160v-160H180v160Zm440 0h160v-160H620v160ZM180-180h160v-160H180v160Zm440 0h160v-160H620v160Z\"/>\n",
              "  </svg>\n",
              "    </button>\n",
              "\n",
              "  <style>\n",
              "    .colab-df-container {\n",
              "      display:flex;\n",
              "      gap: 12px;\n",
              "    }\n",
              "\n",
              "    .colab-df-convert {\n",
              "      background-color: #E8F0FE;\n",
              "      border: none;\n",
              "      border-radius: 50%;\n",
              "      cursor: pointer;\n",
              "      display: none;\n",
              "      fill: #1967D2;\n",
              "      height: 32px;\n",
              "      padding: 0 0 0 0;\n",
              "      width: 32px;\n",
              "    }\n",
              "\n",
              "    .colab-df-convert:hover {\n",
              "      background-color: #E2EBFA;\n",
              "      box-shadow: 0px 1px 2px rgba(60, 64, 67, 0.3), 0px 1px 3px 1px rgba(60, 64, 67, 0.15);\n",
              "      fill: #174EA6;\n",
              "    }\n",
              "\n",
              "    .colab-df-buttons div {\n",
              "      margin-bottom: 4px;\n",
              "    }\n",
              "\n",
              "    [theme=dark] .colab-df-convert {\n",
              "      background-color: #3B4455;\n",
              "      fill: #D2E3FC;\n",
              "    }\n",
              "\n",
              "    [theme=dark] .colab-df-convert:hover {\n",
              "      background-color: #434B5C;\n",
              "      box-shadow: 0px 1px 3px 1px rgba(0, 0, 0, 0.15);\n",
              "      filter: drop-shadow(0px 1px 2px rgba(0, 0, 0, 0.3));\n",
              "      fill: #FFFFFF;\n",
              "    }\n",
              "  </style>\n",
              "\n",
              "    <script>\n",
              "      const buttonEl =\n",
              "        document.querySelector('#df-91786fbb-825b-4701-8af3-9f5d8712e075 button.colab-df-convert');\n",
              "      buttonEl.style.display =\n",
              "        google.colab.kernel.accessAllowed ? 'block' : 'none';\n",
              "\n",
              "      async function convertToInteractive(key) {\n",
              "        const element = document.querySelector('#df-91786fbb-825b-4701-8af3-9f5d8712e075');\n",
              "        const dataTable =\n",
              "          await google.colab.kernel.invokeFunction('convertToInteractive',\n",
              "                                                    [key], {});\n",
              "        if (!dataTable) return;\n",
              "\n",
              "        const docLinkHtml = 'Like what you see? Visit the ' +\n",
              "          '<a target=\"_blank\" href=https://colab.research.google.com/notebooks/data_table.ipynb>data table notebook</a>'\n",
              "          + ' to learn more about interactive tables.';\n",
              "        element.innerHTML = '';\n",
              "        dataTable['output_type'] = 'display_data';\n",
              "        await google.colab.output.renderOutput(dataTable, element);\n",
              "        const docLink = document.createElement('div');\n",
              "        docLink.innerHTML = docLinkHtml;\n",
              "        element.appendChild(docLink);\n",
              "      }\n",
              "    </script>\n",
              "  </div>\n",
              "\n",
              "\n",
              "    <div id=\"df-e0918e9a-be1b-4875-8d7f-0a34eac7be7c\">\n",
              "      <button class=\"colab-df-quickchart\" onclick=\"quickchart('df-e0918e9a-be1b-4875-8d7f-0a34eac7be7c')\"\n",
              "                title=\"Suggest charts\"\n",
              "                style=\"display:none;\">\n",
              "\n",
              "<svg xmlns=\"http://www.w3.org/2000/svg\" height=\"24px\"viewBox=\"0 0 24 24\"\n",
              "     width=\"24px\">\n",
              "    <g>\n",
              "        <path d=\"M19 3H5c-1.1 0-2 .9-2 2v14c0 1.1.9 2 2 2h14c1.1 0 2-.9 2-2V5c0-1.1-.9-2-2-2zM9 17H7v-7h2v7zm4 0h-2V7h2v10zm4 0h-2v-4h2v4z\"/>\n",
              "    </g>\n",
              "</svg>\n",
              "      </button>\n",
              "\n",
              "<style>\n",
              "  .colab-df-quickchart {\n",
              "      --bg-color: #E8F0FE;\n",
              "      --fill-color: #1967D2;\n",
              "      --hover-bg-color: #E2EBFA;\n",
              "      --hover-fill-color: #174EA6;\n",
              "      --disabled-fill-color: #AAA;\n",
              "      --disabled-bg-color: #DDD;\n",
              "  }\n",
              "\n",
              "  [theme=dark] .colab-df-quickchart {\n",
              "      --bg-color: #3B4455;\n",
              "      --fill-color: #D2E3FC;\n",
              "      --hover-bg-color: #434B5C;\n",
              "      --hover-fill-color: #FFFFFF;\n",
              "      --disabled-bg-color: #3B4455;\n",
              "      --disabled-fill-color: #666;\n",
              "  }\n",
              "\n",
              "  .colab-df-quickchart {\n",
              "    background-color: var(--bg-color);\n",
              "    border: none;\n",
              "    border-radius: 50%;\n",
              "    cursor: pointer;\n",
              "    display: none;\n",
              "    fill: var(--fill-color);\n",
              "    height: 32px;\n",
              "    padding: 0;\n",
              "    width: 32px;\n",
              "  }\n",
              "\n",
              "  .colab-df-quickchart:hover {\n",
              "    background-color: var(--hover-bg-color);\n",
              "    box-shadow: 0 1px 2px rgba(60, 64, 67, 0.3), 0 1px 3px 1px rgba(60, 64, 67, 0.15);\n",
              "    fill: var(--button-hover-fill-color);\n",
              "  }\n",
              "\n",
              "  .colab-df-quickchart-complete:disabled,\n",
              "  .colab-df-quickchart-complete:disabled:hover {\n",
              "    background-color: var(--disabled-bg-color);\n",
              "    fill: var(--disabled-fill-color);\n",
              "    box-shadow: none;\n",
              "  }\n",
              "\n",
              "  .colab-df-spinner {\n",
              "    border: 2px solid var(--fill-color);\n",
              "    border-color: transparent;\n",
              "    border-bottom-color: var(--fill-color);\n",
              "    animation:\n",
              "      spin 1s steps(1) infinite;\n",
              "  }\n",
              "\n",
              "  @keyframes spin {\n",
              "    0% {\n",
              "      border-color: transparent;\n",
              "      border-bottom-color: var(--fill-color);\n",
              "      border-left-color: var(--fill-color);\n",
              "    }\n",
              "    20% {\n",
              "      border-color: transparent;\n",
              "      border-left-color: var(--fill-color);\n",
              "      border-top-color: var(--fill-color);\n",
              "    }\n",
              "    30% {\n",
              "      border-color: transparent;\n",
              "      border-left-color: var(--fill-color);\n",
              "      border-top-color: var(--fill-color);\n",
              "      border-right-color: var(--fill-color);\n",
              "    }\n",
              "    40% {\n",
              "      border-color: transparent;\n",
              "      border-right-color: var(--fill-color);\n",
              "      border-top-color: var(--fill-color);\n",
              "    }\n",
              "    60% {\n",
              "      border-color: transparent;\n",
              "      border-right-color: var(--fill-color);\n",
              "    }\n",
              "    80% {\n",
              "      border-color: transparent;\n",
              "      border-right-color: var(--fill-color);\n",
              "      border-bottom-color: var(--fill-color);\n",
              "    }\n",
              "    90% {\n",
              "      border-color: transparent;\n",
              "      border-bottom-color: var(--fill-color);\n",
              "    }\n",
              "  }\n",
              "</style>\n",
              "\n",
              "      <script>\n",
              "        async function quickchart(key) {\n",
              "          const quickchartButtonEl =\n",
              "            document.querySelector('#' + key + ' button');\n",
              "          quickchartButtonEl.disabled = true;  // To prevent multiple clicks.\n",
              "          quickchartButtonEl.classList.add('colab-df-spinner');\n",
              "          try {\n",
              "            const charts = await google.colab.kernel.invokeFunction(\n",
              "                'suggestCharts', [key], {});\n",
              "          } catch (error) {\n",
              "            console.error('Error during call to suggestCharts:', error);\n",
              "          }\n",
              "          quickchartButtonEl.classList.remove('colab-df-spinner');\n",
              "          quickchartButtonEl.classList.add('colab-df-quickchart-complete');\n",
              "        }\n",
              "        (() => {\n",
              "          let quickchartButtonEl =\n",
              "            document.querySelector('#df-e0918e9a-be1b-4875-8d7f-0a34eac7be7c button');\n",
              "          quickchartButtonEl.style.display =\n",
              "            google.colab.kernel.accessAllowed ? 'block' : 'none';\n",
              "        })();\n",
              "      </script>\n",
              "    </div>\n",
              "\n",
              "    </div>\n",
              "  </div>\n"
            ],
            "application/vnd.google.colaboratory.intrinsic+json": {
              "type": "dataframe",
              "summary": "{\n  \"name\": \"# df\",\n  \"rows\": 5,\n  \"fields\": [\n    {\n      \"column\": \"Observation ID\",\n      \"properties\": {\n        \"dtype\": \"number\",\n        \"std\": 1,\n        \"min\": 1,\n        \"max\": 5,\n        \"num_unique_values\": 5,\n        \"samples\": [\n          2,\n          5,\n          3\n        ],\n        \"semantic_type\": \"\",\n        \"description\": \"\"\n      }\n    },\n    {\n      \"column\": \"Common Name\",\n      \"properties\": {\n        \"dtype\": \"string\",\n        \"num_unique_values\": 4,\n        \"samples\": [\n          \"American Crocodile\",\n          \"Mugger Crocodile (Marsh Crocodile)\",\n          \"Morelet's Crocodile\"\n        ],\n        \"semantic_type\": \"\",\n        \"description\": \"\"\n      }\n    },\n    {\n      \"column\": \"Scientific Name\",\n      \"properties\": {\n        \"dtype\": \"string\",\n        \"num_unique_values\": 4,\n        \"samples\": [\n          \"Crocodylus acutus\",\n          \"Crocodylus palustris\",\n          \"Crocodylus moreletii\"\n        ],\n        \"semantic_type\": \"\",\n        \"description\": \"\"\n      }\n    },\n    {\n      \"column\": \"Family\",\n      \"properties\": {\n        \"dtype\": \"category\",\n        \"num_unique_values\": 1,\n        \"samples\": [\n          \"Crocodylidae\"\n        ],\n        \"semantic_type\": \"\",\n        \"description\": \"\"\n      }\n    },\n    {\n      \"column\": \"Genus\",\n      \"properties\": {\n        \"dtype\": \"category\",\n        \"num_unique_values\": 1,\n        \"samples\": [\n          \"Crocodylus\"\n        ],\n        \"semantic_type\": \"\",\n        \"description\": \"\"\n      }\n    },\n    {\n      \"column\": \"Observed Length (m)\",\n      \"properties\": {\n        \"dtype\": \"number\",\n        \"std\": 1.261336592666684,\n        \"min\": 1.08,\n        \"max\": 4.09,\n        \"num_unique_values\": 5,\n        \"samples\": [\n          4.09\n        ],\n        \"semantic_type\": \"\",\n        \"description\": \"\"\n      }\n    },\n    {\n      \"column\": \"Observed Weight (kg)\",\n      \"properties\": {\n        \"dtype\": \"number\",\n        \"std\": 119.89991659713529,\n        \"min\": 62.0,\n        \"max\": 334.5,\n        \"num_unique_values\": 5,\n        \"samples\": [\n          334.5\n        ],\n        \"semantic_type\": \"\",\n        \"description\": \"\"\n      }\n    },\n    {\n      \"column\": \"Age Class\",\n      \"properties\": {\n        \"dtype\": \"category\",\n        \"num_unique_values\": 2,\n        \"samples\": [\n          \"Juvenile\"\n        ],\n        \"semantic_type\": \"\",\n        \"description\": \"\"\n      }\n    },\n    {\n      \"column\": \"Sex\",\n      \"properties\": {\n        \"dtype\": \"category\",\n        \"num_unique_values\": 2,\n        \"samples\": [\n          \"Unknown\"\n        ],\n        \"semantic_type\": \"\",\n        \"description\": \"\"\n      }\n    },\n    {\n      \"column\": \"Date of Observation\",\n      \"properties\": {\n        \"dtype\": \"object\",\n        \"num_unique_values\": 5,\n        \"samples\": [\n          \"28-01-2015\"\n        ],\n        \"semantic_type\": \"\",\n        \"description\": \"\"\n      }\n    },\n    {\n      \"column\": \"Country/Region\",\n      \"properties\": {\n        \"dtype\": \"string\",\n        \"num_unique_values\": 4,\n        \"samples\": [\n          \"Venezuela\"\n        ],\n        \"semantic_type\": \"\",\n        \"description\": \"\"\n      }\n    },\n    {\n      \"column\": \"Habitat Type\",\n      \"properties\": {\n        \"dtype\": \"string\",\n        \"num_unique_values\": 4,\n        \"samples\": [\n          \"Mangroves\"\n        ],\n        \"semantic_type\": \"\",\n        \"description\": \"\"\n      }\n    },\n    {\n      \"column\": \"Conservation Status\",\n      \"properties\": {\n        \"dtype\": \"string\",\n        \"num_unique_values\": 3,\n        \"samples\": [\n          \"Least Concern\"\n        ],\n        \"semantic_type\": \"\",\n        \"description\": \"\"\n      }\n    },\n    {\n      \"column\": \"Observer Name\",\n      \"properties\": {\n        \"dtype\": \"string\",\n        \"num_unique_values\": 5,\n        \"samples\": [\n          \"Brandon Hall\"\n        ],\n        \"semantic_type\": \"\",\n        \"description\": \"\"\n      }\n    },\n    {\n      \"column\": \"Notes\",\n      \"properties\": {\n        \"dtype\": \"string\",\n        \"num_unique_values\": 5,\n        \"samples\": [\n          \"Ago current practice nation determine operation speak according.\"\n        ],\n        \"semantic_type\": \"\",\n        \"description\": \"\"\n      }\n    }\n  ]\n}"
            }
          },
          "metadata": {},
          "execution_count": 12
        }
      ]
    },
    {
      "cell_type": "code",
      "source": [
        "df.dtypes"
      ],
      "metadata": {
        "colab": {
          "base_uri": "https://localhost:8080/",
          "height": 554
        },
        "id": "N2jNjeJhS9M6",
        "outputId": "6432ec65-9d8d-456e-c3c6-569c835578b0"
      },
      "execution_count": null,
      "outputs": [
        {
          "output_type": "execute_result",
          "data": {
            "text/plain": [
              "Observation ID            int64\n",
              "Common Name              object\n",
              "Scientific Name          object\n",
              "Family                   object\n",
              "Genus                    object\n",
              "Observed Length (m)     float64\n",
              "Observed Weight (kg)    float64\n",
              "Age Class                object\n",
              "Sex                      object\n",
              "Date of Observation      object\n",
              "Country/Region           object\n",
              "Habitat Type             object\n",
              "Conservation Status      object\n",
              "Observer Name            object\n",
              "Notes                    object\n",
              "dtype: object"
            ],
            "text/html": [
              "<div>\n",
              "<style scoped>\n",
              "    .dataframe tbody tr th:only-of-type {\n",
              "        vertical-align: middle;\n",
              "    }\n",
              "\n",
              "    .dataframe tbody tr th {\n",
              "        vertical-align: top;\n",
              "    }\n",
              "\n",
              "    .dataframe thead th {\n",
              "        text-align: right;\n",
              "    }\n",
              "</style>\n",
              "<table border=\"1\" class=\"dataframe\">\n",
              "  <thead>\n",
              "    <tr style=\"text-align: right;\">\n",
              "      <th></th>\n",
              "      <th>0</th>\n",
              "    </tr>\n",
              "  </thead>\n",
              "  <tbody>\n",
              "    <tr>\n",
              "      <th>Observation ID</th>\n",
              "      <td>int64</td>\n",
              "    </tr>\n",
              "    <tr>\n",
              "      <th>Common Name</th>\n",
              "      <td>object</td>\n",
              "    </tr>\n",
              "    <tr>\n",
              "      <th>Scientific Name</th>\n",
              "      <td>object</td>\n",
              "    </tr>\n",
              "    <tr>\n",
              "      <th>Family</th>\n",
              "      <td>object</td>\n",
              "    </tr>\n",
              "    <tr>\n",
              "      <th>Genus</th>\n",
              "      <td>object</td>\n",
              "    </tr>\n",
              "    <tr>\n",
              "      <th>Observed Length (m)</th>\n",
              "      <td>float64</td>\n",
              "    </tr>\n",
              "    <tr>\n",
              "      <th>Observed Weight (kg)</th>\n",
              "      <td>float64</td>\n",
              "    </tr>\n",
              "    <tr>\n",
              "      <th>Age Class</th>\n",
              "      <td>object</td>\n",
              "    </tr>\n",
              "    <tr>\n",
              "      <th>Sex</th>\n",
              "      <td>object</td>\n",
              "    </tr>\n",
              "    <tr>\n",
              "      <th>Date of Observation</th>\n",
              "      <td>object</td>\n",
              "    </tr>\n",
              "    <tr>\n",
              "      <th>Country/Region</th>\n",
              "      <td>object</td>\n",
              "    </tr>\n",
              "    <tr>\n",
              "      <th>Habitat Type</th>\n",
              "      <td>object</td>\n",
              "    </tr>\n",
              "    <tr>\n",
              "      <th>Conservation Status</th>\n",
              "      <td>object</td>\n",
              "    </tr>\n",
              "    <tr>\n",
              "      <th>Observer Name</th>\n",
              "      <td>object</td>\n",
              "    </tr>\n",
              "    <tr>\n",
              "      <th>Notes</th>\n",
              "      <td>object</td>\n",
              "    </tr>\n",
              "  </tbody>\n",
              "</table>\n",
              "</div><br><label><b>dtype:</b> object</label>"
            ]
          },
          "metadata": {},
          "execution_count": 13
        }
      ]
    },
    {
      "cell_type": "code",
      "source": [
        "df.describe()"
      ],
      "metadata": {
        "colab": {
          "base_uri": "https://localhost:8080/",
          "height": 300
        },
        "id": "sjCurNmvTKba",
        "outputId": "32dda77f-925c-4ceb-f6e4-8cd8b3c775b7"
      },
      "execution_count": null,
      "outputs": [
        {
          "output_type": "execute_result",
          "data": {
            "text/plain": [
              "       Observation ID  Observed Length (m)  Observed Weight (kg)\n",
              "count     1000.000000          1000.000000           1000.000000\n",
              "mean       500.500000             2.415110            155.771900\n",
              "std        288.819436             1.097542            175.186788\n",
              "min          1.000000             0.140000              4.400000\n",
              "25%        250.750000             1.637500             53.225000\n",
              "50%        500.500000             2.430000            100.600000\n",
              "75%        750.250000             3.010000            168.875000\n",
              "max       1000.000000             6.120000           1139.700000"
            ],
            "text/html": [
              "\n",
              "  <div id=\"df-d80ed8eb-ac2a-473d-932f-3b09a14831e7\" class=\"colab-df-container\">\n",
              "    <div>\n",
              "<style scoped>\n",
              "    .dataframe tbody tr th:only-of-type {\n",
              "        vertical-align: middle;\n",
              "    }\n",
              "\n",
              "    .dataframe tbody tr th {\n",
              "        vertical-align: top;\n",
              "    }\n",
              "\n",
              "    .dataframe thead th {\n",
              "        text-align: right;\n",
              "    }\n",
              "</style>\n",
              "<table border=\"1\" class=\"dataframe\">\n",
              "  <thead>\n",
              "    <tr style=\"text-align: right;\">\n",
              "      <th></th>\n",
              "      <th>Observation ID</th>\n",
              "      <th>Observed Length (m)</th>\n",
              "      <th>Observed Weight (kg)</th>\n",
              "    </tr>\n",
              "  </thead>\n",
              "  <tbody>\n",
              "    <tr>\n",
              "      <th>count</th>\n",
              "      <td>1000.000000</td>\n",
              "      <td>1000.000000</td>\n",
              "      <td>1000.000000</td>\n",
              "    </tr>\n",
              "    <tr>\n",
              "      <th>mean</th>\n",
              "      <td>500.500000</td>\n",
              "      <td>2.415110</td>\n",
              "      <td>155.771900</td>\n",
              "    </tr>\n",
              "    <tr>\n",
              "      <th>std</th>\n",
              "      <td>288.819436</td>\n",
              "      <td>1.097542</td>\n",
              "      <td>175.186788</td>\n",
              "    </tr>\n",
              "    <tr>\n",
              "      <th>min</th>\n",
              "      <td>1.000000</td>\n",
              "      <td>0.140000</td>\n",
              "      <td>4.400000</td>\n",
              "    </tr>\n",
              "    <tr>\n",
              "      <th>25%</th>\n",
              "      <td>250.750000</td>\n",
              "      <td>1.637500</td>\n",
              "      <td>53.225000</td>\n",
              "    </tr>\n",
              "    <tr>\n",
              "      <th>50%</th>\n",
              "      <td>500.500000</td>\n",
              "      <td>2.430000</td>\n",
              "      <td>100.600000</td>\n",
              "    </tr>\n",
              "    <tr>\n",
              "      <th>75%</th>\n",
              "      <td>750.250000</td>\n",
              "      <td>3.010000</td>\n",
              "      <td>168.875000</td>\n",
              "    </tr>\n",
              "    <tr>\n",
              "      <th>max</th>\n",
              "      <td>1000.000000</td>\n",
              "      <td>6.120000</td>\n",
              "      <td>1139.700000</td>\n",
              "    </tr>\n",
              "  </tbody>\n",
              "</table>\n",
              "</div>\n",
              "    <div class=\"colab-df-buttons\">\n",
              "\n",
              "  <div class=\"colab-df-container\">\n",
              "    <button class=\"colab-df-convert\" onclick=\"convertToInteractive('df-d80ed8eb-ac2a-473d-932f-3b09a14831e7')\"\n",
              "            title=\"Convert this dataframe to an interactive table.\"\n",
              "            style=\"display:none;\">\n",
              "\n",
              "  <svg xmlns=\"http://www.w3.org/2000/svg\" height=\"24px\" viewBox=\"0 -960 960 960\">\n",
              "    <path d=\"M120-120v-720h720v720H120Zm60-500h600v-160H180v160Zm220 220h160v-160H400v160Zm0 220h160v-160H400v160ZM180-400h160v-160H180v160Zm440 0h160v-160H620v160ZM180-180h160v-160H180v160Zm440 0h160v-160H620v160Z\"/>\n",
              "  </svg>\n",
              "    </button>\n",
              "\n",
              "  <style>\n",
              "    .colab-df-container {\n",
              "      display:flex;\n",
              "      gap: 12px;\n",
              "    }\n",
              "\n",
              "    .colab-df-convert {\n",
              "      background-color: #E8F0FE;\n",
              "      border: none;\n",
              "      border-radius: 50%;\n",
              "      cursor: pointer;\n",
              "      display: none;\n",
              "      fill: #1967D2;\n",
              "      height: 32px;\n",
              "      padding: 0 0 0 0;\n",
              "      width: 32px;\n",
              "    }\n",
              "\n",
              "    .colab-df-convert:hover {\n",
              "      background-color: #E2EBFA;\n",
              "      box-shadow: 0px 1px 2px rgba(60, 64, 67, 0.3), 0px 1px 3px 1px rgba(60, 64, 67, 0.15);\n",
              "      fill: #174EA6;\n",
              "    }\n",
              "\n",
              "    .colab-df-buttons div {\n",
              "      margin-bottom: 4px;\n",
              "    }\n",
              "\n",
              "    [theme=dark] .colab-df-convert {\n",
              "      background-color: #3B4455;\n",
              "      fill: #D2E3FC;\n",
              "    }\n",
              "\n",
              "    [theme=dark] .colab-df-convert:hover {\n",
              "      background-color: #434B5C;\n",
              "      box-shadow: 0px 1px 3px 1px rgba(0, 0, 0, 0.15);\n",
              "      filter: drop-shadow(0px 1px 2px rgba(0, 0, 0, 0.3));\n",
              "      fill: #FFFFFF;\n",
              "    }\n",
              "  </style>\n",
              "\n",
              "    <script>\n",
              "      const buttonEl =\n",
              "        document.querySelector('#df-d80ed8eb-ac2a-473d-932f-3b09a14831e7 button.colab-df-convert');\n",
              "      buttonEl.style.display =\n",
              "        google.colab.kernel.accessAllowed ? 'block' : 'none';\n",
              "\n",
              "      async function convertToInteractive(key) {\n",
              "        const element = document.querySelector('#df-d80ed8eb-ac2a-473d-932f-3b09a14831e7');\n",
              "        const dataTable =\n",
              "          await google.colab.kernel.invokeFunction('convertToInteractive',\n",
              "                                                    [key], {});\n",
              "        if (!dataTable) return;\n",
              "\n",
              "        const docLinkHtml = 'Like what you see? Visit the ' +\n",
              "          '<a target=\"_blank\" href=https://colab.research.google.com/notebooks/data_table.ipynb>data table notebook</a>'\n",
              "          + ' to learn more about interactive tables.';\n",
              "        element.innerHTML = '';\n",
              "        dataTable['output_type'] = 'display_data';\n",
              "        await google.colab.output.renderOutput(dataTable, element);\n",
              "        const docLink = document.createElement('div');\n",
              "        docLink.innerHTML = docLinkHtml;\n",
              "        element.appendChild(docLink);\n",
              "      }\n",
              "    </script>\n",
              "  </div>\n",
              "\n",
              "\n",
              "    <div id=\"df-34c1bba4-5452-4043-9766-3f6fc5c7dc51\">\n",
              "      <button class=\"colab-df-quickchart\" onclick=\"quickchart('df-34c1bba4-5452-4043-9766-3f6fc5c7dc51')\"\n",
              "                title=\"Suggest charts\"\n",
              "                style=\"display:none;\">\n",
              "\n",
              "<svg xmlns=\"http://www.w3.org/2000/svg\" height=\"24px\"viewBox=\"0 0 24 24\"\n",
              "     width=\"24px\">\n",
              "    <g>\n",
              "        <path d=\"M19 3H5c-1.1 0-2 .9-2 2v14c0 1.1.9 2 2 2h14c1.1 0 2-.9 2-2V5c0-1.1-.9-2-2-2zM9 17H7v-7h2v7zm4 0h-2V7h2v10zm4 0h-2v-4h2v4z\"/>\n",
              "    </g>\n",
              "</svg>\n",
              "      </button>\n",
              "\n",
              "<style>\n",
              "  .colab-df-quickchart {\n",
              "      --bg-color: #E8F0FE;\n",
              "      --fill-color: #1967D2;\n",
              "      --hover-bg-color: #E2EBFA;\n",
              "      --hover-fill-color: #174EA6;\n",
              "      --disabled-fill-color: #AAA;\n",
              "      --disabled-bg-color: #DDD;\n",
              "  }\n",
              "\n",
              "  [theme=dark] .colab-df-quickchart {\n",
              "      --bg-color: #3B4455;\n",
              "      --fill-color: #D2E3FC;\n",
              "      --hover-bg-color: #434B5C;\n",
              "      --hover-fill-color: #FFFFFF;\n",
              "      --disabled-bg-color: #3B4455;\n",
              "      --disabled-fill-color: #666;\n",
              "  }\n",
              "\n",
              "  .colab-df-quickchart {\n",
              "    background-color: var(--bg-color);\n",
              "    border: none;\n",
              "    border-radius: 50%;\n",
              "    cursor: pointer;\n",
              "    display: none;\n",
              "    fill: var(--fill-color);\n",
              "    height: 32px;\n",
              "    padding: 0;\n",
              "    width: 32px;\n",
              "  }\n",
              "\n",
              "  .colab-df-quickchart:hover {\n",
              "    background-color: var(--hover-bg-color);\n",
              "    box-shadow: 0 1px 2px rgba(60, 64, 67, 0.3), 0 1px 3px 1px rgba(60, 64, 67, 0.15);\n",
              "    fill: var(--button-hover-fill-color);\n",
              "  }\n",
              "\n",
              "  .colab-df-quickchart-complete:disabled,\n",
              "  .colab-df-quickchart-complete:disabled:hover {\n",
              "    background-color: var(--disabled-bg-color);\n",
              "    fill: var(--disabled-fill-color);\n",
              "    box-shadow: none;\n",
              "  }\n",
              "\n",
              "  .colab-df-spinner {\n",
              "    border: 2px solid var(--fill-color);\n",
              "    border-color: transparent;\n",
              "    border-bottom-color: var(--fill-color);\n",
              "    animation:\n",
              "      spin 1s steps(1) infinite;\n",
              "  }\n",
              "\n",
              "  @keyframes spin {\n",
              "    0% {\n",
              "      border-color: transparent;\n",
              "      border-bottom-color: var(--fill-color);\n",
              "      border-left-color: var(--fill-color);\n",
              "    }\n",
              "    20% {\n",
              "      border-color: transparent;\n",
              "      border-left-color: var(--fill-color);\n",
              "      border-top-color: var(--fill-color);\n",
              "    }\n",
              "    30% {\n",
              "      border-color: transparent;\n",
              "      border-left-color: var(--fill-color);\n",
              "      border-top-color: var(--fill-color);\n",
              "      border-right-color: var(--fill-color);\n",
              "    }\n",
              "    40% {\n",
              "      border-color: transparent;\n",
              "      border-right-color: var(--fill-color);\n",
              "      border-top-color: var(--fill-color);\n",
              "    }\n",
              "    60% {\n",
              "      border-color: transparent;\n",
              "      border-right-color: var(--fill-color);\n",
              "    }\n",
              "    80% {\n",
              "      border-color: transparent;\n",
              "      border-right-color: var(--fill-color);\n",
              "      border-bottom-color: var(--fill-color);\n",
              "    }\n",
              "    90% {\n",
              "      border-color: transparent;\n",
              "      border-bottom-color: var(--fill-color);\n",
              "    }\n",
              "  }\n",
              "</style>\n",
              "\n",
              "      <script>\n",
              "        async function quickchart(key) {\n",
              "          const quickchartButtonEl =\n",
              "            document.querySelector('#' + key + ' button');\n",
              "          quickchartButtonEl.disabled = true;  // To prevent multiple clicks.\n",
              "          quickchartButtonEl.classList.add('colab-df-spinner');\n",
              "          try {\n",
              "            const charts = await google.colab.kernel.invokeFunction(\n",
              "                'suggestCharts', [key], {});\n",
              "          } catch (error) {\n",
              "            console.error('Error during call to suggestCharts:', error);\n",
              "          }\n",
              "          quickchartButtonEl.classList.remove('colab-df-spinner');\n",
              "          quickchartButtonEl.classList.add('colab-df-quickchart-complete');\n",
              "        }\n",
              "        (() => {\n",
              "          let quickchartButtonEl =\n",
              "            document.querySelector('#df-34c1bba4-5452-4043-9766-3f6fc5c7dc51 button');\n",
              "          quickchartButtonEl.style.display =\n",
              "            google.colab.kernel.accessAllowed ? 'block' : 'none';\n",
              "        })();\n",
              "      </script>\n",
              "    </div>\n",
              "\n",
              "    </div>\n",
              "  </div>\n"
            ],
            "application/vnd.google.colaboratory.intrinsic+json": {
              "type": "dataframe",
              "summary": "{\n  \"name\": \"df\",\n  \"rows\": 8,\n  \"fields\": [\n    {\n      \"column\": \"Observation ID\",\n      \"properties\": {\n        \"dtype\": \"number\",\n        \"std\": 360.1000917722167,\n        \"min\": 1.0,\n        \"max\": 1000.0,\n        \"num_unique_values\": 6,\n        \"samples\": [\n          1000.0,\n          500.5,\n          750.25\n        ],\n        \"semantic_type\": \"\",\n        \"description\": \"\"\n      }\n    },\n    {\n      \"column\": \"Observed Length (m)\",\n      \"properties\": {\n        \"dtype\": \"number\",\n        \"std\": 352.7067030724406,\n        \"min\": 0.14,\n        \"max\": 1000.0,\n        \"num_unique_values\": 8,\n        \"samples\": [\n          2.41511,\n          2.43,\n          1000.0\n        ],\n        \"semantic_type\": \"\",\n        \"description\": \"\"\n      }\n    },\n    {\n      \"column\": \"Observed Weight (kg)\",\n      \"properties\": {\n        \"dtype\": \"number\",\n        \"std\": 449.9096833513473,\n        \"min\": 4.4,\n        \"max\": 1139.7,\n        \"num_unique_values\": 8,\n        \"samples\": [\n          155.7719,\n          100.6,\n          1000.0\n        ],\n        \"semantic_type\": \"\",\n        \"description\": \"\"\n      }\n    }\n  ]\n}"
            }
          },
          "metadata": {},
          "execution_count": 14
        }
      ]
    },
    {
      "cell_type": "markdown",
      "source": [
        "# COLUMNS AND ROWS"
      ],
      "metadata": {
        "id": "9b-ZXCVjTy0Y"
      }
    },
    {
      "cell_type": "code",
      "source": [
        "df['Genus']"
      ],
      "metadata": {
        "colab": {
          "base_uri": "https://localhost:8080/",
          "height": 458
        },
        "id": "J_7AwvD1TQ2M",
        "outputId": "dcf8446c-67f3-4262-c1ff-cd3231b182a7"
      },
      "execution_count": null,
      "outputs": [
        {
          "output_type": "execute_result",
          "data": {
            "text/plain": [
              "0      Crocodylus\n",
              "1      Crocodylus\n",
              "2      Crocodylus\n",
              "3      Crocodylus\n",
              "4      Crocodylus\n",
              "          ...    \n",
              "995    Crocodylus\n",
              "996    Crocodylus\n",
              "997     Mecistops\n",
              "998     Mecistops\n",
              "999    Crocodylus\n",
              "Name: Genus, Length: 1000, dtype: object"
            ],
            "text/html": [
              "<div>\n",
              "<style scoped>\n",
              "    .dataframe tbody tr th:only-of-type {\n",
              "        vertical-align: middle;\n",
              "    }\n",
              "\n",
              "    .dataframe tbody tr th {\n",
              "        vertical-align: top;\n",
              "    }\n",
              "\n",
              "    .dataframe thead th {\n",
              "        text-align: right;\n",
              "    }\n",
              "</style>\n",
              "<table border=\"1\" class=\"dataframe\">\n",
              "  <thead>\n",
              "    <tr style=\"text-align: right;\">\n",
              "      <th></th>\n",
              "      <th>Genus</th>\n",
              "    </tr>\n",
              "  </thead>\n",
              "  <tbody>\n",
              "    <tr>\n",
              "      <th>0</th>\n",
              "      <td>Crocodylus</td>\n",
              "    </tr>\n",
              "    <tr>\n",
              "      <th>1</th>\n",
              "      <td>Crocodylus</td>\n",
              "    </tr>\n",
              "    <tr>\n",
              "      <th>2</th>\n",
              "      <td>Crocodylus</td>\n",
              "    </tr>\n",
              "    <tr>\n",
              "      <th>3</th>\n",
              "      <td>Crocodylus</td>\n",
              "    </tr>\n",
              "    <tr>\n",
              "      <th>4</th>\n",
              "      <td>Crocodylus</td>\n",
              "    </tr>\n",
              "    <tr>\n",
              "      <th>...</th>\n",
              "      <td>...</td>\n",
              "    </tr>\n",
              "    <tr>\n",
              "      <th>995</th>\n",
              "      <td>Crocodylus</td>\n",
              "    </tr>\n",
              "    <tr>\n",
              "      <th>996</th>\n",
              "      <td>Crocodylus</td>\n",
              "    </tr>\n",
              "    <tr>\n",
              "      <th>997</th>\n",
              "      <td>Mecistops</td>\n",
              "    </tr>\n",
              "    <tr>\n",
              "      <th>998</th>\n",
              "      <td>Mecistops</td>\n",
              "    </tr>\n",
              "    <tr>\n",
              "      <th>999</th>\n",
              "      <td>Crocodylus</td>\n",
              "    </tr>\n",
              "  </tbody>\n",
              "</table>\n",
              "<p>1000 rows × 1 columns</p>\n",
              "</div><br><label><b>dtype:</b> object</label>"
            ]
          },
          "metadata": {},
          "execution_count": 15
        }
      ]
    },
    {
      "cell_type": "code",
      "source": [
        "df.loc[4]"
      ],
      "metadata": {
        "colab": {
          "base_uri": "https://localhost:8080/",
          "height": 554
        },
        "id": "GodXkel_Th77",
        "outputId": "9b623240-241c-4f83-e83d-5b7ed46e3ee2"
      },
      "execution_count": null,
      "outputs": [
        {
          "output_type": "execute_result",
          "data": {
            "text/plain": [
              "Observation ID                                                          5\n",
              "Common Name                            Mugger Crocodile (Marsh Crocodile)\n",
              "Scientific Name                                      Crocodylus palustris\n",
              "Family                                                       Crocodylidae\n",
              "Genus                                                          Crocodylus\n",
              "Observed Length (m)                                                  3.75\n",
              "Observed Weight (kg)                                                269.4\n",
              "Age Class                                                           Adult\n",
              "Sex                                                               Unknown\n",
              "Date of Observation                                            15-07-2019\n",
              "Country/Region                                                      India\n",
              "Habitat Type                                                       Rivers\n",
              "Conservation Status                                            Vulnerable\n",
              "Observer Name                                                 Donald Reid\n",
              "Notes                   Class great prove reduce raise author play mov...\n",
              "Name: 4, dtype: object"
            ],
            "text/html": [
              "<div>\n",
              "<style scoped>\n",
              "    .dataframe tbody tr th:only-of-type {\n",
              "        vertical-align: middle;\n",
              "    }\n",
              "\n",
              "    .dataframe tbody tr th {\n",
              "        vertical-align: top;\n",
              "    }\n",
              "\n",
              "    .dataframe thead th {\n",
              "        text-align: right;\n",
              "    }\n",
              "</style>\n",
              "<table border=\"1\" class=\"dataframe\">\n",
              "  <thead>\n",
              "    <tr style=\"text-align: right;\">\n",
              "      <th></th>\n",
              "      <th>4</th>\n",
              "    </tr>\n",
              "  </thead>\n",
              "  <tbody>\n",
              "    <tr>\n",
              "      <th>Observation ID</th>\n",
              "      <td>5</td>\n",
              "    </tr>\n",
              "    <tr>\n",
              "      <th>Common Name</th>\n",
              "      <td>Mugger Crocodile (Marsh Crocodile)</td>\n",
              "    </tr>\n",
              "    <tr>\n",
              "      <th>Scientific Name</th>\n",
              "      <td>Crocodylus palustris</td>\n",
              "    </tr>\n",
              "    <tr>\n",
              "      <th>Family</th>\n",
              "      <td>Crocodylidae</td>\n",
              "    </tr>\n",
              "    <tr>\n",
              "      <th>Genus</th>\n",
              "      <td>Crocodylus</td>\n",
              "    </tr>\n",
              "    <tr>\n",
              "      <th>Observed Length (m)</th>\n",
              "      <td>3.75</td>\n",
              "    </tr>\n",
              "    <tr>\n",
              "      <th>Observed Weight (kg)</th>\n",
              "      <td>269.4</td>\n",
              "    </tr>\n",
              "    <tr>\n",
              "      <th>Age Class</th>\n",
              "      <td>Adult</td>\n",
              "    </tr>\n",
              "    <tr>\n",
              "      <th>Sex</th>\n",
              "      <td>Unknown</td>\n",
              "    </tr>\n",
              "    <tr>\n",
              "      <th>Date of Observation</th>\n",
              "      <td>15-07-2019</td>\n",
              "    </tr>\n",
              "    <tr>\n",
              "      <th>Country/Region</th>\n",
              "      <td>India</td>\n",
              "    </tr>\n",
              "    <tr>\n",
              "      <th>Habitat Type</th>\n",
              "      <td>Rivers</td>\n",
              "    </tr>\n",
              "    <tr>\n",
              "      <th>Conservation Status</th>\n",
              "      <td>Vulnerable</td>\n",
              "    </tr>\n",
              "    <tr>\n",
              "      <th>Observer Name</th>\n",
              "      <td>Donald Reid</td>\n",
              "    </tr>\n",
              "    <tr>\n",
              "      <th>Notes</th>\n",
              "      <td>Class great prove reduce raise author play mov...</td>\n",
              "    </tr>\n",
              "  </tbody>\n",
              "</table>\n",
              "</div><br><label><b>dtype:</b> object</label>"
            ]
          },
          "metadata": {},
          "execution_count": 16
        }
      ]
    },
    {
      "cell_type": "markdown",
      "source": [
        "This helps when you want to look up rows by that ID or join/merge on it.<br>\n",
        "The original column 'Observation ID' is removed from regular columns and becomes the index."
      ],
      "metadata": {
        "id": "xMXGIPINUdRq"
      }
    },
    {
      "cell_type": "code",
      "source": [
        "df = df.set_index('Observation ID')"
      ],
      "metadata": {
        "id": "sM6XIClfT8ne"
      },
      "execution_count": null,
      "outputs": []
    },
    {
      "cell_type": "markdown",
      "source": [
        "# Subsetting Data"
      ],
      "metadata": {
        "id": "u-FAIiaLUjLT"
      }
    },
    {
      "cell_type": "code",
      "source": [
        "df.shape"
      ],
      "metadata": {
        "colab": {
          "base_uri": "https://localhost:8080/"
        },
        "id": "mr57AMEUULMO",
        "outputId": "89b57622-8179-4d6d-eb27-f49b30e87e7f"
      },
      "execution_count": null,
      "outputs": [
        {
          "output_type": "execute_result",
          "data": {
            "text/plain": [
              "(1000, 14)"
            ]
          },
          "metadata": {},
          "execution_count": 18
        }
      ]
    },
    {
      "cell_type": "code",
      "source": [
        "df_subset1 = df.loc[df['Observed Weight (kg)'] > 100, ['Country/Region', 'Observer Name']]\n",
        "print(df_subset1)"
      ],
      "metadata": {
        "colab": {
          "base_uri": "https://localhost:8080/"
        },
        "id": "8yYguBQ6VBOC",
        "outputId": "c0e1be05-584f-46fd-fad0-c0306c4e5a26"
      },
      "execution_count": null,
      "outputs": [
        {
          "output_type": "stream",
          "name": "stdout",
          "text": [
            "                  Country/Region          Observer Name\n",
            "Observation ID                                         \n",
            "2                      Venezuela           Brandon Hall\n",
            "3                      Venezuela       Melissa Peterson\n",
            "5                          India            Donald Reid\n",
            "6                          India            Randy Brown\n",
            "7                       Thailand  Dr. Marvin Thomas Jr.\n",
            "...                          ...                    ...\n",
            "991             Papua New Guinea            Casey Miles\n",
            "992                        Egypt         Deborah Moreno\n",
            "995                    Guatemala            Seth Norman\n",
            "996                   Mauritania            Karen Avery\n",
            "999                 Sierra Leone          Eric Petersen\n",
            "\n",
            "[504 rows x 2 columns]\n"
          ]
        }
      ]
    },
    {
      "cell_type": "code",
      "source": [
        "df_subset2 = df.query('`Observed Weight (kg)` > 100')\n",
        "print(df_subset2[['Country/Region', 'Observer Name']])"
      ],
      "metadata": {
        "colab": {
          "base_uri": "https://localhost:8080/"
        },
        "id": "Z_L-byD1VYI8",
        "outputId": "163ad738-414d-4e42-8bff-8bf14ced7e4b"
      },
      "execution_count": null,
      "outputs": [
        {
          "output_type": "stream",
          "name": "stdout",
          "text": [
            "                  Country/Region          Observer Name\n",
            "Observation ID                                         \n",
            "2                      Venezuela           Brandon Hall\n",
            "3                      Venezuela       Melissa Peterson\n",
            "5                          India            Donald Reid\n",
            "6                          India            Randy Brown\n",
            "7                       Thailand  Dr. Marvin Thomas Jr.\n",
            "...                          ...                    ...\n",
            "991             Papua New Guinea            Casey Miles\n",
            "992                        Egypt         Deborah Moreno\n",
            "995                    Guatemala            Seth Norman\n",
            "996                   Mauritania            Karen Avery\n",
            "999                 Sierra Leone          Eric Petersen\n",
            "\n",
            "[504 rows x 2 columns]\n"
          ]
        }
      ]
    },
    {
      "cell_type": "code",
      "source": [
        "df = df.loc[~df['Observed Weight (kg)'].isna()]\n",
        "print(df[['Country/Region', 'Observer Name']])"
      ],
      "metadata": {
        "colab": {
          "base_uri": "https://localhost:8080/"
        },
        "id": "5OKrClUBXAxl",
        "outputId": "df1fcbdd-669e-4ca7-eb31-48d4b9e9f356"
      },
      "execution_count": null,
      "outputs": [
        {
          "output_type": "stream",
          "name": "stdout",
          "text": [
            "                  Country/Region     Observer Name\n",
            "Observation ID                                    \n",
            "1                         Belize      Allison Hill\n",
            "2                      Venezuela      Brandon Hall\n",
            "3                      Venezuela  Melissa Peterson\n",
            "4                         Mexico     Edward Fuller\n",
            "5                          India       Donald Reid\n",
            "...                          ...               ...\n",
            "996                   Mauritania       Karen Avery\n",
            "997             Papua New Guinea     Sylvia Turner\n",
            "998                Côte d'Ivoire   Kristin Fleming\n",
            "999                 Sierra Leone     Eric Petersen\n",
            "1000            Papua New Guinea    Kristen Harris\n",
            "\n",
            "[1000 rows x 2 columns]\n"
          ]
        }
      ]
    },
    {
      "cell_type": "markdown",
      "source": [
        "\n",
        "\n",
        "*   df['Observed Weight (kg)'].isna() → True where the value is NaN (missing).\n",
        "\n",
        "*   ~ → logical NOT, so it flips the boolean mask.\n",
        "\n",
        "*   df.loc[...] → keeps only the rows where weight is NOT NaN."
      ],
      "metadata": {
        "id": "NJDkN8r4Xxri"
      }
    },
    {
      "cell_type": "markdown",
      "source": [
        "# Casting dtypes\n",
        "**any other time**"
      ],
      "metadata": {
        "id": "LefTwtg7YHGm"
      }
    },
    {
      "cell_type": "code",
      "source": [
        "df0 = df.dropna()\n",
        "df['Observed Length (m)'] = df['Observed Length (m)'].astype(int)\n",
        "df['Observed Weight (kg)'] = df['Observed Weight (kg)'].astype(int)\n",
        "print(df0)"
      ],
      "metadata": {
        "colab": {
          "base_uri": "https://localhost:8080/"
        },
        "id": "toVFjee9XN5-",
        "outputId": "029f3786-e1ab-490f-8681-43e5d6cfcbd4"
      },
      "execution_count": null,
      "outputs": [
        {
          "output_type": "stream",
          "name": "stdout",
          "text": [
            "                                           Common Name  \\\n",
            "Observation ID                                           \n",
            "1                                  Morelet's Crocodile   \n",
            "2                                   American Crocodile   \n",
            "3                                    Orinoco Crocodile   \n",
            "4                                  Morelet's Crocodile   \n",
            "5                   Mugger Crocodile (Marsh Crocodile)   \n",
            "...                                                ...   \n",
            "996                             West African Crocodile   \n",
            "997                        Hall's New Guinea Crocodile   \n",
            "998             West African Slender-snouted Crocodile   \n",
            "999             West African Slender-snouted Crocodile   \n",
            "1000                       Hall's New Guinea Crocodile   \n",
            "\n",
            "                       Scientific Name        Family       Genus  \\\n",
            "Observation ID                                                     \n",
            "1                 Crocodylus moreletii  Crocodylidae  Crocodylus   \n",
            "2                    Crocodylus acutus  Crocodylidae  Crocodylus   \n",
            "3               Crocodylus intermedius  Crocodylidae  Crocodylus   \n",
            "4                 Crocodylus moreletii  Crocodylidae  Crocodylus   \n",
            "5                 Crocodylus palustris  Crocodylidae  Crocodylus   \n",
            "...                                ...           ...         ...   \n",
            "996                  Crocodylus suchus  Crocodylidae  Crocodylus   \n",
            "997                   Crocodylus halli  Crocodylidae  Crocodylus   \n",
            "998             Mecistops cataphractus  Crocodylidae   Mecistops   \n",
            "999             Mecistops cataphractus  Crocodylidae   Mecistops   \n",
            "1000                  Crocodylus halli  Crocodylidae  Crocodylus   \n",
            "\n",
            "                Observed Length (m)  Observed Weight (kg) Age Class      Sex  \\\n",
            "Observation ID                                                                 \n",
            "1                              1.90                  62.0     Adult     Male   \n",
            "2                              4.09                 334.5     Adult     Male   \n",
            "3                              1.08                 118.2  Juvenile  Unknown   \n",
            "4                              2.42                  90.4     Adult     Male   \n",
            "5                              3.75                 269.4     Adult  Unknown   \n",
            "...                             ...                   ...       ...      ...   \n",
            "996                            2.55                 112.3     Adult   Female   \n",
            "997                            2.27                  80.3  Subadult   Female   \n",
            "998                            2.34                  93.5     Adult     Male   \n",
            "999                            2.82                 147.6     Adult     Male   \n",
            "1000                           1.73                  47.4  Juvenile  Unknown   \n",
            "\n",
            "               Date of Observation    Country/Region          Habitat Type  \\\n",
            "Observation ID                                                               \n",
            "1                       31-03-2018            Belize                Swamps   \n",
            "2                       28-01-2015         Venezuela             Mangroves   \n",
            "3                       07-12-2010         Venezuela      Flooded Savannas   \n",
            "4                       01-11-2019            Mexico                Rivers   \n",
            "5                       15-07-2019             India                Rivers   \n",
            "...                            ...               ...                   ...   \n",
            "996                     01-10-2015        Mauritania                 Lakes   \n",
            "997                     25-01-2023  Papua New Guinea   Freshwater Wetlands   \n",
            "998                     07-02-2014     Côte d'Ivoire                Swamps   \n",
            "999                     09-07-2010      Sierra Leone  Shaded Forest Rivers   \n",
            "1000                    31-03-2014  Papua New Guinea   Freshwater Wetlands   \n",
            "\n",
            "                  Conservation Status     Observer Name  \\\n",
            "Observation ID                                            \n",
            "1                       Least Concern      Allison Hill   \n",
            "2                          Vulnerable      Brandon Hall   \n",
            "3               Critically Endangered  Melissa Peterson   \n",
            "4                       Least Concern     Edward Fuller   \n",
            "5                          Vulnerable       Donald Reid   \n",
            "...                               ...               ...   \n",
            "996                     Least Concern       Karen Avery   \n",
            "997                     Least Concern     Sylvia Turner   \n",
            "998             Critically Endangered   Kristin Fleming   \n",
            "999             Critically Endangered     Eric Petersen   \n",
            "1000                    Least Concern    Kristen Harris   \n",
            "\n",
            "                                                            Notes  \n",
            "Observation ID                                                     \n",
            "1                        Cause bill scientist nation opportunity.  \n",
            "2               Ago current practice nation determine operatio...  \n",
            "3               Democratic shake bill here grow gas enough ana...  \n",
            "4                     Officer relate animal direction eye bag do.  \n",
            "5               Class great prove reduce raise author play mov...  \n",
            "...                                                           ...  \n",
            "996             Thousand position sense church out explain sig...  \n",
            "997                Painting try talk like maintain serious style.  \n",
            "998             Produce off light before majority garden milit...  \n",
            "999             Put everything our prove could party skin soon...  \n",
            "1000            Ok community right then police day so store co...  \n",
            "\n",
            "[1000 rows x 14 columns]\n"
          ]
        }
      ]
    },
    {
      "cell_type": "markdown",
      "source": [
        "# Creating new column"
      ],
      "metadata": {
        "id": "nBerSQ5bd374"
      }
    },
    {
      "cell_type": "code",
      "source": [
        "df['BMI'] = df['Observed Weight (kg)'] / df['Observed Length (m)']\n",
        "print(df[['BMI','Observed Weight (kg)','Observed Length (m)']])"
      ],
      "metadata": {
        "colab": {
          "base_uri": "https://localhost:8080/"
        },
        "id": "uB-f1Ac-dBvl",
        "outputId": "4f75cda8-6355-4923-877a-f7d754af9b8d"
      },
      "execution_count": null,
      "outputs": [
        {
          "output_type": "stream",
          "name": "stdout",
          "text": [
            "                       BMI  Observed Weight (kg)  Observed Length (m)\n",
            "Observation ID                                                       \n",
            "1                62.000000                    62                    1\n",
            "2                83.500000                   334                    4\n",
            "3               118.000000                   118                    1\n",
            "4                45.000000                    90                    2\n",
            "5                89.666667                   269                    3\n",
            "...                    ...                   ...                  ...\n",
            "996              56.000000                   112                    2\n",
            "997              40.000000                    80                    2\n",
            "998              46.500000                    93                    2\n",
            "999              73.500000                   147                    2\n",
            "1000             47.000000                    47                    1\n",
            "\n",
            "[1000 rows x 3 columns]\n"
          ]
        }
      ]
    },
    {
      "cell_type": "code",
      "source": [
        "import matplotlib.pylab as plt\n",
        "plt.style.use('ggplot')"
      ],
      "metadata": {
        "id": "20INfZ7SeOe0"
      },
      "execution_count": null,
      "outputs": []
    },
    {
      "cell_type": "code",
      "source": [
        "df['Observed Weight (kg)'].plot(kind='hist', bins=50,\n",
        "                     title='Distribution of Observed Weight (kg)',\n",
        "                     figsize=(15, 5))"
      ],
      "metadata": {
        "colab": {
          "base_uri": "https://localhost:8080/",
          "height": 486
        },
        "id": "8ZK6ZIaVeQCy",
        "outputId": "62de7880-8742-4deb-e720-4629b68bce17"
      },
      "execution_count": null,
      "outputs": [
        {
          "output_type": "execute_result",
          "data": {
            "text/plain": [
              "<Axes: title={'center': 'Distribution of Observed Weight (kg)'}, ylabel='Frequency'>"
            ]
          },
          "metadata": {},
          "execution_count": 25
        },
        {
          "output_type": "display_data",
          "data": {
            "text/plain": [
              "<Figure size 1500x500 with 1 Axes>"
            ],
            "image/png": "[encoded data removed]"
          },
          "metadata": {}
        }
      ]
    },
    {
      "cell_type": "code",
      "source": [
        "df.plot(kind='scatter', x='Observed Weight (kg)', y='Observed Length (m)', title='Weight vs Length Count')"
      ],
      "metadata": {
        "colab": {
          "base_uri": "https://localhost:8080/",
          "height": 494
        },
        "id": "uLDhSSmBebM7",
        "outputId": "066c6d5c-a836-4233-8a03-cfc92c672d0a"
      },
      "execution_count": null,
      "outputs": [
        {
          "output_type": "execute_result",
          "data": {
            "text/plain": [
              "<Axes: title={'center': 'Weight vs Length Count'}, xlabel='Observed Weight (kg)', ylabel='Observed Length (m)'>"
            ]
          },
          "metadata": {},
          "execution_count": 26
        },
        {
          "output_type": "display_data",
          "data": {
            "text/plain": [
              "<Figure size 640x480 with 1 Axes>"
            ],
            "image/png": "[encoded data removed]"
          },
          "metadata": {}
        }
      ]
    }
  ]
}